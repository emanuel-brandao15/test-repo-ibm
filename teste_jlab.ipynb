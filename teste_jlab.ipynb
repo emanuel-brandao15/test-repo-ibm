{
 "cells": [
  {
   "cell_type": "code",
   "execution_count": 2,
   "id": "d4651eb9-5597-4620-8007-50f518bf13e2",
   "metadata": {
    "id": "f4912d23-8f16-4da9-bb05-34ca40bc5a5d"
   },
   "outputs": [
    {
     "data": {
      "text/plain": [
       "2"
      ]
     },
     "execution_count": 2,
     "metadata": {},
     "output_type": "execute_result"
    }
   ],
   "source": [
    "1+1"
   ]
  }
 ],
 "metadata": {
  "kernelspec": {
   "display_name": "Python 3.11",
   "language": "python",
   "name": "python3"
  },
  "language_info": {
   "codemirror_mode": {
    "name": "ipython",
    "version": 3
   },
   "file_extension": ".py",
   "mimetype": "text/x-python",
   "name": "python",
   "nbconvert_exporter": "python",
   "pygments_lexer": "ipython3",
   "version": "3.11.9"
  }
 },
 "nbformat": 4,
 "nbformat_minor": 5
}
