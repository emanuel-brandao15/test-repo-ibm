{
 "cells": [
  {
   "cell_type": "code",
   "execution_count": 1,
   "id": "d4651eb9-5597-4620-8007-50f518bf13e2",
   "metadata": {
    "id": "f4912d23-8f16-4da9-bb05-34ca40bc5a5d"
   },
   "outputs": [
    {
     "name": "stdout",
     "output_type": "stream",
     "text": [
      " assets      'Machine Learning for Equipment Failure Prediction.ipynb'\n",
      " assettypes   Untitled.ipynb\n"
     ]
    }
   ],
   "source": []
  }
 ],
 "metadata": {
  "kernelspec": {
   "display_name": "Python 3.11",
   "language": "python",
   "name": "python3"
  },
  "language_info": {
   "codemirror_mode": {
    "name": "ipython",
    "version": 3
   },
   "file_extension": ".py",
   "mimetype": "text/x-python",
   "name": "python",
   "nbconvert_exporter": "python",
   "pygments_lexer": "ipython3",
   "version": "3.11.9"
  }
 },
 "nbformat": 4,
 "nbformat_minor": 5
}
