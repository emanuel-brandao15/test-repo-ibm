{
    "cells": [
        {
            "cell_type": "code",
            "execution_count": null,
            "metadata": {
                "id": "174f5b25-a3d1-4c99-802a-f8f2917c2ec3"
            },
            "outputs": [],
            "source": ""
        },
        {
            "cell_type": "code",
            "execution_count": null,
            "metadata": {
                "id": "479b0f5a-adb7-4b19-b777-b65340482329"
            },
            "outputs": [],
            "source": ""
        },
        {
            "cell_type": "markdown",
            "metadata": {},
            "source": "# Machine Learning for Equipment Failure Prediction and Equipment Maintenance (PM)"
        },
        {
            "cell_type": "markdown",
            "metadata": {},
            "source": "For more information on the topic please see the following article.\n\nhttps://medium.com/swlh/machine-learning-for-equipment-failure-prediction-and-predictive-maintenance-pm-e72b1ce42da1\n\n\nPublished July 2020, Greatly revised February 2021.  Augmented and improved again in August 2022."
        },
        {
            "cell_type": "markdown",
            "metadata": {},
            "source": "In this notebook, I walk through a predictive maintenance problem in great detail.  These types of issues can be tricky for several reasons.  The first six sections deal with building a model.  The last sections deal with evaluating model effectiveness and ensuring it will be effective when deployed in production.\n\n\nWhen it comes to dealing with machines that require periodic maintenance, there are generally three possible outcomes.\n\nOne, you can maintain a machine too frequently. In other words, the machine gets maintenance when it is not required. In this scenario, you are throwing money out the window, wasting resources providing unnecessary maintenance. For example, you could change the oil in your car every single day. This is not optimal, and you will waste a lot of money on unnecessary maintenance.\n\nTwo, you don\u2019t maintain your machine frequently enough. Failing to maintain a machine means that the machine will break while operating. Here, the costs could be substantial. Not only do you have the repair costs, but also costs associated with lost production. If a machine on the assembly line goes down, the line cannot produce anything. No production means lost profit. Also, you will incur legal and medical costs if injuries occurred as a result of the failure.\n\nThree, a machine is maintained when it needs maintenance. This is obviously the better alternative of the three. Note, that that there is still a cost associated with timely maintenance.\n\nSo, we need to maintain machines when they need maintenance, right? Unfortunately, this is easier said than done. Fortunately, we can use predictive maintenance (PM) to predict when machines need maintenance.\n\nI should also mention that most machines come with manufacturer recommendations on maintenance. The problem with manufacturer recommendations is that they represent an average. For example, cars on average need an oil change every 3,000 miles, but how frequently does your car need an oil change? It may be more or less than 3,000 miles depending on several factors, including where your drive, how you drive, and how frequently you drive.\n\nPredictive maintenance (PM) can tell you, based on data, when a machine requires maintenance. An effective PM program will minimize under and over-maintaining your machine. For a large manufacturer with thousands of machines, being precise on machine maintenance can save millions of dollars every year.\n\nIn this article, I will examine a typical Predictive Maintenance (PM) use case. As I walk through this example, I will describe some of the issues that arise with PM problems and suggest ways to solve them.\n\nAn important note about the data used in this exercise. It is entirely fake. I created the data based on my experience of dealing with these types of problems. Although it is entirely artificial, I believe the data and use case is very realistic and consistent with many real PM problems.\n\n\n\n\n"
        },
        {
            "cell_type": "markdown",
            "metadata": {},
            "source": "The firm in our use case provided a sample of data that includes 421 machines that failed over two years. They spent 11.766M dollars on maintenance, most of which came from running machines until failure.\n\nHere is a summary of the maintained or repaired machines over the last two years."
        },
        {
            "cell_type": "code",
            "execution_count": 1,
            "metadata": {
                "id": "fa5d1179-4aaa-4ae1-9ac7-be184755b0d6"
            },
            "outputs": [
                {
                    "data": {
                        "text/html": "<img src=\"https://cdn-images-1.medium.com/max/1600/1*fUKUEUeqgIYU9xlxj4pwhw.png\"/>",
                        "text/plain": "<IPython.core.display.Image object>"
                    },
                    "execution_count": 1,
                    "metadata": {},
                    "output_type": "execute_result"
                }
            ],
            "source": "from IPython.display import Image\nfrom IPython.core.display import HTML \nImage(url= \"https://cdn-images-1.medium.com/max/1600/1*fUKUEUeqgIYU9xlxj4pwhw.png\")"
        },
        {
            "cell_type": "markdown",
            "metadata": {},
            "source": "From the data above, it currently costs the firm about $28,000 per failed or maintained machine. Our goal is to lower this cost.\n\nIn the chart above, Timely Maintenance costs more than Unnecessary Maintenance. There is a good reason for this. For this machine, unnecessary maintenance means that that machine was moved off-line and checked, but the part in question showed insufficient wear to replace. Because parts were not replaced, there are no material costs, only labor.\n\nNote that this company does very little predictive maintenance. Most of the time, they just run the machines to failure. Also, note that these machines will break in four to eight years if they don\u2019t receive maintenance. When they fail, they must be pulled off-line and repaired.\n\nOur goal is to show the firm how a Predictive Maintenance program can save them money. To do this, we will build a predictive model that predicts machine failure within 90 days of actual failure. Note that an appropriate failure window will always depend on the context of the problem. If a machine breaks without maintenance in 6 months, a three-month window makes no sense. Here, where a machine will run between 4 to 6 years without maintenance, a 90-day window is reasonable.\n\nOur objective is to develop a solution that will lower the costs of failure. Again, it currently costs the firm about 28,000 per machine. We will attempt to reduce this cost.\n\nNote that I developed this exercise in Watson Studio on the IBM Cloud.  If you have issues running the notebook, please set up a free account on IBM Cloud and try it there.\nhttps://www.ibm.com/cloud/watson-studio\n"
        },
        {
            "cell_type": "markdown",
            "metadata": {},
            "source": "## Table of Contents"
        },
        {
            "cell_type": "markdown",
            "metadata": {},
            "source": "1. [Getting Setup](#setup1)<br>\n \n2. [Data Exploration](#explore)<br>\n\n3. [Data Transformation and Feature Engineering](#trans)<br>\n \n4. [Dealing with the Small Number of Failures](#small)<br>\n    4.1 [Expand the Failure Window](#window)<br>\n    4.2 [Create Testing, Training and Validation Groups](#groups)<br>\n    4.3 [SMOTE the Training Data](#smote)<br>\n5. [More Data Transformations and Feature Engineering](#more)<br>\n6. [Build the Model on the Balanced Data Set](#build)<br>\n7. [Evaluate the model](#score)<br>\n    7.1 [Evaluate the model using an AUC and accuacy metrics](#7.1)<br>\n    7.2 [Evaluating with a Confusion Matrix](#7.2)<br>\n    7.3 [Using Heuristics to Define a False Positive, True Positive, False Negative and True Negative](#7.3)<br>\n    7.31 [Eliminate redundant failure signals](#7.31)<br>\n    7.32 [Identify the machine id for each signal.  Identify the date of the failure signal.](#7.32)<br>\n    7.33 [Create a realistic confusion matrix](#7.33)<br>\n    7.34 [Incorporating the Economics of the Problem.](#7.34)<br>\n    7.4 [Fine-Tuning  the solution.](#7.4)<br>\n11. [Conclusions](#conc)<br>"
        },
        {
            "cell_type": "markdown",
            "metadata": {},
            "source": "### 1.0 Getting Set-Up <a></a>"
        },
        {
            "cell_type": "code",
            "execution_count": 2,
            "metadata": {
                "id": "79ed296c-1121-4abe-b60d-cd0bb1427266"
            },
            "outputs": [
                {
                    "name": "stdout",
                    "output_type": "stream",
                    "text": "\u001b[33mWARNING: Skipping imbalanced-learn as it is not installed.\u001b[0m\u001b[33m\n\u001b[0m"
                }
            ],
            "source": "!pip uninstall imbalanced-learn -y"
        },
        {
            "cell_type": "code",
            "execution_count": 3,
            "metadata": {
                "id": "4471c223-9b85-4fc9-b6c9-bd9e2d54e35a"
            },
            "outputs": [
                {
                    "name": "stdout",
                    "output_type": "stream",
                    "text": "Collecting imbalanced-learn\n  Downloading imbalanced_learn-0.13.0-py3-none-any.whl.metadata (8.8 kB)\nRequirement already satisfied: numpy<3,>=1.24.3 in /opt/conda/envs/Python-RT24.1/lib/python3.11/site-packages (from imbalanced-learn) (1.26.4)\nRequirement already satisfied: scipy<2,>=1.10.1 in /opt/conda/envs/Python-RT24.1/lib/python3.11/site-packages (from imbalanced-learn) (1.11.4)\nCollecting scikit-learn<2,>=1.3.2 (from imbalanced-learn)\n  Downloading scikit_learn-1.6.1-cp311-cp311-manylinux_2_17_x86_64.manylinux2014_x86_64.whl.metadata (18 kB)\nCollecting sklearn-compat<1,>=0.1 (from imbalanced-learn)\n  Downloading sklearn_compat-0.1.3-py3-none-any.whl.metadata (18 kB)\nRequirement already satisfied: joblib<2,>=1.1.1 in /opt/conda/envs/Python-RT24.1/lib/python3.11/site-packages (from imbalanced-learn) (1.3.2)\nRequirement already satisfied: threadpoolctl<4,>=2.0.0 in /opt/conda/envs/Python-RT24.1/lib/python3.11/site-packages (from imbalanced-learn) (2.2.0)\nCollecting threadpoolctl<4,>=2.0.0 (from imbalanced-learn)\n  Downloading threadpoolctl-3.5.0-py3-none-any.whl.metadata (13 kB)\nDownloading imbalanced_learn-0.13.0-py3-none-any.whl (238 kB)\n\u001b[2K   \u001b[90m\u2501\u2501\u2501\u2501\u2501\u2501\u2501\u2501\u2501\u2501\u2501\u2501\u2501\u2501\u2501\u2501\u2501\u2501\u2501\u2501\u2501\u2501\u2501\u2501\u2501\u2501\u2501\u2501\u2501\u2501\u2501\u2501\u2501\u2501\u2501\u2501\u2501\u2501\u2501\u2501\u001b[0m \u001b[32m238.4/238.4 kB\u001b[0m \u001b[31m27.8 MB/s\u001b[0m eta \u001b[36m0:00:00\u001b[0m\n\u001b[?25hDownloading scikit_learn-1.6.1-cp311-cp311-manylinux_2_17_x86_64.manylinux2014_x86_64.whl (13.5 MB)\n\u001b[2K   \u001b[90m\u2501\u2501\u2501\u2501\u2501\u2501\u2501\u2501\u2501\u2501\u2501\u2501\u2501\u2501\u2501\u2501\u2501\u2501\u2501\u2501\u2501\u2501\u2501\u2501\u2501\u2501\u2501\u2501\u2501\u2501\u2501\u2501\u2501\u2501\u2501\u2501\u2501\u2501\u2501\u2501\u001b[0m \u001b[32m13.5/13.5 MB\u001b[0m \u001b[31m68.7 MB/s\u001b[0m eta \u001b[36m0:00:00\u001b[0m:00:01\u001b[0m0:01\u001b[0m\n\u001b[?25hDownloading sklearn_compat-0.1.3-py3-none-any.whl (18 kB)\nDownloading threadpoolctl-3.5.0-py3-none-any.whl (18 kB)\nInstalling collected packages: threadpoolctl, scikit-learn, sklearn-compat, imbalanced-learn\n  Attempting uninstall: threadpoolctl\n    Found existing installation: threadpoolctl 2.2.0\n    Uninstalling threadpoolctl-2.2.0:\n      Successfully uninstalled threadpoolctl-2.2.0\n  Attempting uninstall: scikit-learn\n    Found existing installation: scikit-learn 1.3.0\n    Uninstalling scikit-learn-1.3.0:\n      Successfully uninstalled scikit-learn-1.3.0\n\u001b[31mERROR: pip's dependency resolver does not currently take into account all the packages that are installed. This behaviour is the source of the following dependency conflicts.\nautoai-ts-libs 4.0.13 requires scikit-learn==1.3.*, but you have scikit-learn 1.6.1 which is incompatible.\nautoai-libs 2.0.11 requires scikit-learn==1.3.*, but you have scikit-learn 1.6.1 which is incompatible.\nlale 0.8.4 requires scikit-learn<1.5.0,>=1.0.0, but you have scikit-learn 1.6.1 which is incompatible.\u001b[0m\u001b[31m\n\u001b[0mSuccessfully installed imbalanced-learn-0.13.0 scikit-learn-1.6.1 sklearn-compat-0.1.3 threadpoolctl-3.5.0\n"
                }
            ],
            "source": "#!pip install plotly \n#!pip install chart-studio \n#!pip install -U scikit-learn \n\n!pip install imbalanced-learn\n\n\n"
        },
        {
            "cell_type": "markdown",
            "metadata": {},
            "source": " Install all of the relevant Python Libraries"
        },
        {
            "cell_type": "markdown",
            "metadata": {},
            "source": "Import required libraries"
        },
        {
            "cell_type": "code",
            "execution_count": 4,
            "metadata": {
                "id": "6b9f7d71-658b-4c74-ae56-41ccb5e165cb",
                "scrolled": true
            },
            "outputs": [],
            "source": "#import chart_studio.plotly as py\n#import plotly.graph_objs as go\n#import plotly as plotly\nimport pandas as pd\nimport numpy as np\nfrom imblearn.over_sampling import SMOTE\nfrom imblearn.over_sampling import SMOTENC\nfrom sklearn import metrics\n\nfrom sklearn.preprocessing import LabelEncoder\n\nimport xgboost as xgb\nfrom xgboost.sklearn import XGBClassifier\n\nimport types\nimport pandas as pd\n\ndef __iter__(self): return 0\n\n\n"
        },
        {
            "cell_type": "markdown",
            "metadata": {},
            "source": "Import the data from GitHub."
        },
        {
            "cell_type": "code",
            "execution_count": 5,
            "metadata": {
                "id": "4342733c-c88d-46ed-96c2-8524ba36ed1b"
            },
            "outputs": [
                {
                    "name": "stdout",
                    "output_type": "stream",
                    "text": "rm: cannot remove 'equipment_failure_data_1.csv': No such file or directory\n"
                }
            ],
            "source": "#Remove the data if you run this notebook more than once\n!rm equipment_failure_data_1.csv"
        },
        {
            "cell_type": "code",
            "execution_count": 6,
            "metadata": {
                "id": "3a5680b8-8a63-44b3-b789-978014eb686a"
            },
            "outputs": [
                {
                    "name": "stdout",
                    "output_type": "stream",
                    "text": "--2025-01-24 18:59:54--  https://raw.githubusercontent.com/shadgriffin/machine_failure/master/equipment_failure_data_1.csv\nResolving raw.githubusercontent.com (raw.githubusercontent.com)... 185.199.110.133, 185.199.109.133, 185.199.111.133, ...\nConnecting to raw.githubusercontent.com (raw.githubusercontent.com)|185.199.110.133|:443... connected.\nHTTP request sent, awaiting response... 200 OK\nLength: 11219474 (11M) [text/plain]\nSaving to: \u2018equipment_failure_data_1.csv\u2019\n\nequipment_failure_d 100%[===================>]  10.70M  --.-KB/s    in 0.07s   \n\n2025-01-24 18:59:55 (152 MB/s) - \u2018equipment_failure_data_1.csv\u2019 saved [11219474/11219474]\n\n"
                }
            ],
            "source": "#import first half from github\n!wget https://raw.githubusercontent.com/shadgriffin/machine_failure/master/equipment_failure_data_1.csv"
        },
        {
            "cell_type": "code",
            "execution_count": 7,
            "metadata": {
                "id": "b9d55f65-aa18-4c22-a323-17e7332fb156"
            },
            "outputs": [],
            "source": "# Convert csv to pandas dataframe\npd_data_1 = pd.read_csv(\"equipment_failure_data_1.csv\", sep=\",\", header=0)"
        },
        {
            "cell_type": "code",
            "execution_count": 9,
            "metadata": {
                "id": "5418c9be-2fbf-4e1b-ad1f-28f1e4ef5ddb"
            },
            "outputs": [
                {
                    "data": {
                        "text/html": "<div>\n<style scoped>\n    .dataframe tbody tr th:only-of-type {\n        vertical-align: middle;\n    }\n\n    .dataframe tbody tr th {\n        vertical-align: top;\n    }\n\n    .dataframe thead th {\n        text-align: right;\n    }\n</style>\n<table border=\"1\" class=\"dataframe\">\n  <thead>\n    <tr style=\"text-align: right;\">\n      <th></th>\n      <th>ID</th>\n      <th>DATE</th>\n      <th>REGION_CLUSTER</th>\n      <th>MAINTENANCE_VENDOR</th>\n      <th>MANUFACTURER</th>\n      <th>WELL_GROUP</th>\n      <th>S15</th>\n      <th>S17</th>\n      <th>S13</th>\n      <th>S5</th>\n      <th>S16</th>\n      <th>S19</th>\n      <th>S18</th>\n      <th>EQUIPMENT_FAILURE</th>\n      <th>S8</th>\n      <th>AGE_OF_EQUIPMENT</th>\n    </tr>\n  </thead>\n  <tbody>\n    <tr>\n      <th>0</th>\n      <td>100001</td>\n      <td>12/2/14</td>\n      <td>G</td>\n      <td>O</td>\n      <td>Y</td>\n      <td>1</td>\n      <td>11.088000</td>\n      <td>145.223448</td>\n      <td>39.34</td>\n      <td>3501.0</td>\n      <td>8.426869</td>\n      <td>1.9</td>\n      <td>24.610345</td>\n      <td>0</td>\n      <td>0.0</td>\n      <td>880</td>\n    </tr>\n    <tr>\n      <th>1</th>\n      <td>100001</td>\n      <td>12/3/14</td>\n      <td>G</td>\n      <td>O</td>\n      <td>Y</td>\n      <td>1</td>\n      <td>8.877943</td>\n      <td>187.573214</td>\n      <td>39.20</td>\n      <td>3489.0</td>\n      <td>6.483714</td>\n      <td>1.9</td>\n      <td>24.671429</td>\n      <td>0</td>\n      <td>0.0</td>\n      <td>881</td>\n    </tr>\n    <tr>\n      <th>2</th>\n      <td>100001</td>\n      <td>12/4/14</td>\n      <td>G</td>\n      <td>O</td>\n      <td>Y</td>\n      <td>1</td>\n      <td>8.676444</td>\n      <td>148.363704</td>\n      <td>38.87</td>\n      <td>3459.0</td>\n      <td>6.159659</td>\n      <td>2.0</td>\n      <td>24.733333</td>\n      <td>0</td>\n      <td>0.0</td>\n      <td>882</td>\n    </tr>\n    <tr>\n      <th>3</th>\n      <td>100001</td>\n      <td>12/5/14</td>\n      <td>G</td>\n      <td>O</td>\n      <td>Y</td>\n      <td>1</td>\n      <td>9.988338</td>\n      <td>133.660000</td>\n      <td>39.47</td>\n      <td>3513.0</td>\n      <td>9.320308</td>\n      <td>2.0</td>\n      <td>24.773077</td>\n      <td>0</td>\n      <td>0.0</td>\n      <td>883</td>\n    </tr>\n    <tr>\n      <th>4</th>\n      <td>100001</td>\n      <td>12/6/14</td>\n      <td>G</td>\n      <td>O</td>\n      <td>Y</td>\n      <td>1</td>\n      <td>8.475264</td>\n      <td>197.181600</td>\n      <td>40.33</td>\n      <td>3589.0</td>\n      <td>8.022960</td>\n      <td>1.5</td>\n      <td>24.808000</td>\n      <td>0</td>\n      <td>0.0</td>\n      <td>884</td>\n    </tr>\n  </tbody>\n</table>\n</div>",
                        "text/plain": "       ID     DATE REGION_CLUSTER MAINTENANCE_VENDOR MANUFACTURER  WELL_GROUP  \\\n0  100001  12/2/14              G                  O            Y           1   \n1  100001  12/3/14              G                  O            Y           1   \n2  100001  12/4/14              G                  O            Y           1   \n3  100001  12/5/14              G                  O            Y           1   \n4  100001  12/6/14              G                  O            Y           1   \n\n         S15         S17    S13      S5       S16  S19        S18  \\\n0  11.088000  145.223448  39.34  3501.0  8.426869  1.9  24.610345   \n1   8.877943  187.573214  39.20  3489.0  6.483714  1.9  24.671429   \n2   8.676444  148.363704  38.87  3459.0  6.159659  2.0  24.733333   \n3   9.988338  133.660000  39.47  3513.0  9.320308  2.0  24.773077   \n4   8.475264  197.181600  40.33  3589.0  8.022960  1.5  24.808000   \n\n   EQUIPMENT_FAILURE   S8  AGE_OF_EQUIPMENT  \n0                  0  0.0               880  \n1                  0  0.0               881  \n2                  0  0.0               882  \n3                  0  0.0               883  \n4                  0  0.0               884  "
                    },
                    "execution_count": 9,
                    "metadata": {},
                    "output_type": "execute_result"
                }
            ],
            "source": "pd_data_1.head()"
        },
        {
            "cell_type": "code",
            "execution_count": 10,
            "metadata": {
                "id": "a7577563-6c9b-47cf-ac40-98fceea96c5d"
            },
            "outputs": [
                {
                    "name": "stdout",
                    "output_type": "stream",
                    "text": "rm: cannot remove 'equipment_failure_data_2.csv': No such file or directory\n"
                }
            ],
            "source": "#Remove the data if you run this notebook more than once\n!rm equipment_failure_data_2.csv"
        },
        {
            "cell_type": "code",
            "execution_count": 11,
            "metadata": {
                "id": "f4c4c414-5b61-487e-ac9c-4dc6b1ba2aff"
            },
            "outputs": [
                {
                    "name": "stdout",
                    "output_type": "stream",
                    "text": "--2025-01-24 19:01:57--  https://raw.githubusercontent.com/shadgriffin/machine_failure/master/equipment_failure_data_2.csv\nResolving raw.githubusercontent.com (raw.githubusercontent.com)... 185.199.111.133, 185.199.108.133, 185.199.110.133, ...\nConnecting to raw.githubusercontent.com (raw.githubusercontent.com)|185.199.111.133|:443... connected.\nHTTP request sent, awaiting response... 200 OK\nLength: 11762512 (11M) [text/plain]\nSaving to: \u2018equipment_failure_data_2.csv\u2019\n\nequipment_failure_d 100%[===================>]  11.22M  --.-KB/s    in 0.06s   \n\n2025-01-24 19:01:58 (175 MB/s) - \u2018equipment_failure_data_2.csv\u2019 saved [11762512/11762512]\n\n"
                }
            ],
            "source": "#Import the second half from github\n!wget https://raw.githubusercontent.com/shadgriffin/machine_failure/master/equipment_failure_data_2.csv"
        },
        {
            "cell_type": "code",
            "execution_count": 12,
            "metadata": {
                "id": "8fc30dbd-40d3-4ee9-90a4-81490ae8791e"
            },
            "outputs": [],
            "source": "# convert to pandas dataframe\npd_data_2 = pd.read_csv(\"equipment_failure_data_2.csv\", sep=\",\", header=0)"
        },
        {
            "cell_type": "code",
            "execution_count": 13,
            "metadata": {
                "id": "b3a7b5a9-08b9-4c33-b8d1-13a59b45e368"
            },
            "outputs": [
                {
                    "data": {
                        "text/html": "<div>\n<style scoped>\n    .dataframe tbody tr th:only-of-type {\n        vertical-align: middle;\n    }\n\n    .dataframe tbody tr th {\n        vertical-align: top;\n    }\n\n    .dataframe thead th {\n        text-align: right;\n    }\n</style>\n<table border=\"1\" class=\"dataframe\">\n  <thead>\n    <tr style=\"text-align: right;\">\n      <th></th>\n      <th>ID</th>\n      <th>DATE</th>\n      <th>REGION_CLUSTER</th>\n      <th>MAINTENANCE_VENDOR</th>\n      <th>MANUFACTURER</th>\n      <th>WELL_GROUP</th>\n      <th>S15</th>\n      <th>S17</th>\n      <th>S13</th>\n      <th>S5</th>\n      <th>S16</th>\n      <th>S19</th>\n      <th>S18</th>\n      <th>EQUIPMENT_FAILURE</th>\n      <th>S8</th>\n      <th>AGE_OF_EQUIPMENT</th>\n    </tr>\n  </thead>\n  <tbody>\n    <tr>\n      <th>0</th>\n      <td>100002</td>\n      <td>12/2/14</td>\n      <td>D</td>\n      <td>L</td>\n      <td>R</td>\n      <td>6</td>\n      <td>23.52</td>\n      <td>0.0</td>\n      <td>34.15</td>\n      <td>4064.0</td>\n      <td>7.842741</td>\n      <td>31.1</td>\n      <td>68.331034</td>\n      <td>0</td>\n      <td>0.0</td>\n      <td>820</td>\n    </tr>\n    <tr>\n      <th>1</th>\n      <td>100002</td>\n      <td>12/3/14</td>\n      <td>D</td>\n      <td>L</td>\n      <td>R</td>\n      <td>6</td>\n      <td>27.36</td>\n      <td>0.0</td>\n      <td>34.12</td>\n      <td>4060.0</td>\n      <td>8.089900</td>\n      <td>31.1</td>\n      <td>68.403571</td>\n      <td>0</td>\n      <td>0.0</td>\n      <td>821</td>\n    </tr>\n    <tr>\n      <th>2</th>\n      <td>100002</td>\n      <td>12/4/14</td>\n      <td>D</td>\n      <td>L</td>\n      <td>R</td>\n      <td>6</td>\n      <td>29.52</td>\n      <td>0.0</td>\n      <td>33.86</td>\n      <td>4029.0</td>\n      <td>9.657700</td>\n      <td>31.1</td>\n      <td>68.444444</td>\n      <td>0</td>\n      <td>0.0</td>\n      <td>822</td>\n    </tr>\n    <tr>\n      <th>3</th>\n      <td>100002</td>\n      <td>12/5/14</td>\n      <td>D</td>\n      <td>L</td>\n      <td>R</td>\n      <td>6</td>\n      <td>22.80</td>\n      <td>0.0</td>\n      <td>34.07</td>\n      <td>4054.0</td>\n      <td>6.520538</td>\n      <td>31.1</td>\n      <td>68.488462</td>\n      <td>0</td>\n      <td>0.0</td>\n      <td>823</td>\n    </tr>\n    <tr>\n      <th>4</th>\n      <td>100002</td>\n      <td>12/6/14</td>\n      <td>D</td>\n      <td>L</td>\n      <td>R</td>\n      <td>6</td>\n      <td>24.24</td>\n      <td>0.0</td>\n      <td>34.39</td>\n      <td>4093.0</td>\n      <td>9.161052</td>\n      <td>26.3</td>\n      <td>68.560000</td>\n      <td>0</td>\n      <td>0.0</td>\n      <td>824</td>\n    </tr>\n  </tbody>\n</table>\n</div>",
                        "text/plain": "       ID     DATE REGION_CLUSTER MAINTENANCE_VENDOR MANUFACTURER  WELL_GROUP  \\\n0  100002  12/2/14              D                  L            R           6   \n1  100002  12/3/14              D                  L            R           6   \n2  100002  12/4/14              D                  L            R           6   \n3  100002  12/5/14              D                  L            R           6   \n4  100002  12/6/14              D                  L            R           6   \n\n     S15  S17    S13      S5       S16   S19        S18  EQUIPMENT_FAILURE  \\\n0  23.52  0.0  34.15  4064.0  7.842741  31.1  68.331034                  0   \n1  27.36  0.0  34.12  4060.0  8.089900  31.1  68.403571                  0   \n2  29.52  0.0  33.86  4029.0  9.657700  31.1  68.444444                  0   \n3  22.80  0.0  34.07  4054.0  6.520538  31.1  68.488462                  0   \n4  24.24  0.0  34.39  4093.0  9.161052  26.3  68.560000                  0   \n\n    S8  AGE_OF_EQUIPMENT  \n0  0.0               820  \n1  0.0               821  \n2  0.0               822  \n3  0.0               823  \n4  0.0               824  "
                    },
                    "execution_count": 13,
                    "metadata": {},
                    "output_type": "execute_result"
                }
            ],
            "source": "pd_data_2.head()"
        },
        {
            "cell_type": "code",
            "execution_count": 14,
            "metadata": {
                "id": "c5995369-0df9-4134-9c83-9494c5eaeef6"
            },
            "outputs": [],
            "source": "#concatenate the two data files into one dataframe\npd_data=pd.concat([pd_data_1, pd_data_2])\n\n"
        },
        {
            "cell_type": "markdown",
            "metadata": {},
            "source": "### 2.0 Data Exploration <a></a>"
        },
        {
            "cell_type": "code",
            "execution_count": 15,
            "metadata": {
                "id": "da905d9b-65df-443c-8971-fa8ed14c5fe4",
                "scrolled": true
            },
            "outputs": [
                {
                    "data": {
                        "text/html": "<div>\n<style scoped>\n    .dataframe tbody tr th:only-of-type {\n        vertical-align: middle;\n    }\n\n    .dataframe tbody tr th {\n        vertical-align: top;\n    }\n\n    .dataframe thead th {\n        text-align: right;\n    }\n</style>\n<table border=\"1\" class=\"dataframe\">\n  <thead>\n    <tr style=\"text-align: right;\">\n      <th></th>\n      <th>ID</th>\n      <th>DATE</th>\n      <th>REGION_CLUSTER</th>\n      <th>MAINTENANCE_VENDOR</th>\n      <th>MANUFACTURER</th>\n      <th>WELL_GROUP</th>\n      <th>S15</th>\n      <th>S17</th>\n      <th>S13</th>\n      <th>S5</th>\n      <th>S16</th>\n      <th>S19</th>\n      <th>S18</th>\n      <th>EQUIPMENT_FAILURE</th>\n      <th>S8</th>\n      <th>AGE_OF_EQUIPMENT</th>\n    </tr>\n  </thead>\n  <tbody>\n    <tr>\n      <th>0</th>\n      <td>100001</td>\n      <td>12/2/14</td>\n      <td>G</td>\n      <td>O</td>\n      <td>Y</td>\n      <td>1</td>\n      <td>11.088000</td>\n      <td>145.223448</td>\n      <td>39.34</td>\n      <td>3501.0</td>\n      <td>8.426869</td>\n      <td>1.9</td>\n      <td>24.610345</td>\n      <td>0</td>\n      <td>0.0</td>\n      <td>880</td>\n    </tr>\n    <tr>\n      <th>1</th>\n      <td>100001</td>\n      <td>12/3/14</td>\n      <td>G</td>\n      <td>O</td>\n      <td>Y</td>\n      <td>1</td>\n      <td>8.877943</td>\n      <td>187.573214</td>\n      <td>39.20</td>\n      <td>3489.0</td>\n      <td>6.483714</td>\n      <td>1.9</td>\n      <td>24.671429</td>\n      <td>0</td>\n      <td>0.0</td>\n      <td>881</td>\n    </tr>\n    <tr>\n      <th>2</th>\n      <td>100001</td>\n      <td>12/4/14</td>\n      <td>G</td>\n      <td>O</td>\n      <td>Y</td>\n      <td>1</td>\n      <td>8.676444</td>\n      <td>148.363704</td>\n      <td>38.87</td>\n      <td>3459.0</td>\n      <td>6.159659</td>\n      <td>2.0</td>\n      <td>24.733333</td>\n      <td>0</td>\n      <td>0.0</td>\n      <td>882</td>\n    </tr>\n    <tr>\n      <th>3</th>\n      <td>100001</td>\n      <td>12/5/14</td>\n      <td>G</td>\n      <td>O</td>\n      <td>Y</td>\n      <td>1</td>\n      <td>9.988338</td>\n      <td>133.660000</td>\n      <td>39.47</td>\n      <td>3513.0</td>\n      <td>9.320308</td>\n      <td>2.0</td>\n      <td>24.773077</td>\n      <td>0</td>\n      <td>0.0</td>\n      <td>883</td>\n    </tr>\n    <tr>\n      <th>4</th>\n      <td>100001</td>\n      <td>12/6/14</td>\n      <td>G</td>\n      <td>O</td>\n      <td>Y</td>\n      <td>1</td>\n      <td>8.475264</td>\n      <td>197.181600</td>\n      <td>40.33</td>\n      <td>3589.0</td>\n      <td>8.022960</td>\n      <td>1.5</td>\n      <td>24.808000</td>\n      <td>0</td>\n      <td>0.0</td>\n      <td>884</td>\n    </tr>\n  </tbody>\n</table>\n</div>",
                        "text/plain": "       ID     DATE REGION_CLUSTER MAINTENANCE_VENDOR MANUFACTURER  WELL_GROUP  \\\n0  100001  12/2/14              G                  O            Y           1   \n1  100001  12/3/14              G                  O            Y           1   \n2  100001  12/4/14              G                  O            Y           1   \n3  100001  12/5/14              G                  O            Y           1   \n4  100001  12/6/14              G                  O            Y           1   \n\n         S15         S17    S13      S5       S16  S19        S18  \\\n0  11.088000  145.223448  39.34  3501.0  8.426869  1.9  24.610345   \n1   8.877943  187.573214  39.20  3489.0  6.483714  1.9  24.671429   \n2   8.676444  148.363704  38.87  3459.0  6.159659  2.0  24.733333   \n3   9.988338  133.660000  39.47  3513.0  9.320308  2.0  24.773077   \n4   8.475264  197.181600  40.33  3589.0  8.022960  1.5  24.808000   \n\n   EQUIPMENT_FAILURE   S8  AGE_OF_EQUIPMENT  \n0                  0  0.0               880  \n1                  0  0.0               881  \n2                  0  0.0               882  \n3                  0  0.0               883  \n4                  0  0.0               884  "
                    },
                    "execution_count": 15,
                    "metadata": {},
                    "output_type": "execute_result"
                }
            ],
            "source": "pd_data.head()"
        },
        {
            "cell_type": "markdown",
            "metadata": {},
            "source": "Now that we have the data imported into a Jupyter Notebook, we can explore it. Here is metadata explaining all of the fields in the data set.\n\nID \u2014 ID field that represents a specific machine.\n\nDATE \u2014 The date of the observation.\n\nREGION_CLUSTER \u2014 a field that represents the region in which the machine resides.\n\nMAINTENANCE_VENDOR \u2014 a field that represents the company that provides maintenance and service to the machine.\n\nMANUFACTURER \u2014 the company that manufactured the equipment in question.\n\nWELL_GROUP \u2014 a field representing the type of machine.\n\nEQUIPMENT_AGE \u2014 Age of the machine, in days.\n\nS15 \u2014 A Sensor Value.\n\nS17 \u2014 A Sensor Value.\n\nS13 \u2014 A Sensor Value.\n\nS16 \u2014 A Sensor Value.\n\nS19 \u2014 A Sensor Value.\n\nS18 \u2014 A Sensor Value.\n\nS8 \u2014 A Sensor Value.\n\nEQUIPMENT_FAILURE \u2014 A \u20181\u2019 means that the equipment failed. A \u20180\u2019 means the equipment did not fail.\n\nOur first goal in this exercise is to build a model that predicts equipment failure. In other words, we will use the other variables in the data frame to predict EQUIPMENT_FAILURE.\n\nNow we will walk through the data.\n\n\n"
        },
        {
            "cell_type": "markdown",
            "metadata": {},
            "source": "Examine the number of rows and columns.  The data has 307,751 rows and 16 columns."
        },
        {
            "cell_type": "code",
            "execution_count": 16,
            "metadata": {
                "id": "77cf3710-8f29-4199-9b7d-ffd3ecfc94a5"
            },
            "outputs": [
                {
                    "data": {
                        "text/plain": "(307751, 16)"
                    },
                    "execution_count": 16,
                    "metadata": {},
                    "output_type": "execute_result"
                }
            ],
            "source": "\npd_data.shape"
        },
        {
            "cell_type": "markdown",
            "metadata": {},
            "source": "There are 421 machines in the data set."
        },
        {
            "cell_type": "code",
            "execution_count": 17,
            "metadata": {
                "id": "6140bf1c-44b0-4662-8daa-8b0321fce427"
            },
            "outputs": [
                {
                    "data": {
                        "text/plain": "(421, 15)"
                    },
                    "execution_count": 17,
                    "metadata": {},
                    "output_type": "execute_result"
                }
            ],
            "source": "\nxxxx = pd.DataFrame(pd_data.groupby(['ID']).agg(['count']))\nxxxx.shape"
        },
        {
            "cell_type": "markdown",
            "metadata": {},
            "source": "there are 731 unique dates in the data set."
        },
        {
            "cell_type": "code",
            "execution_count": 18,
            "metadata": {
                "id": "b2ae96c1-7353-4e8a-afdc-f1626f235cf1"
            },
            "outputs": [
                {
                    "data": {
                        "text/plain": "(731, 15)"
                    },
                    "execution_count": 18,
                    "metadata": {},
                    "output_type": "execute_result"
                }
            ],
            "source": "\nxxxx = pd.DataFrame(pd_data.groupby(['DATE']).agg(['count']))\nxxxx.shape"
        },
        {
            "cell_type": "markdown",
            "metadata": {},
            "source": "We have 731 unique dates.  So if we have 421 machines and 731 unique dates, we should have 307,751 total records.  Based on the .shape command, we have one record per machine per date value.  There are no duplicates in the data frame.\n\n"
        },
        {
            "cell_type": "markdown",
            "metadata": {},
            "source": "And to triple confirm, remove all duplicates and count the rows again."
        },
        {
            "cell_type": "code",
            "execution_count": 19,
            "metadata": {
                "id": "0cd5ca3c-bc9d-421a-bfe5-b742b5448924"
            },
            "outputs": [
                {
                    "data": {
                        "text/plain": "(307751, 16)"
                    },
                    "execution_count": 19,
                    "metadata": {},
                    "output_type": "execute_result"
                }
            ],
            "source": "df_failure_thingy=pd_data\ndf_failure_thingy=df_failure_thingy.drop_duplicates(subset=['ID','DATE'])\ndf_failure_thingy.shape\n"
        },
        {
            "cell_type": "markdown",
            "metadata": {},
            "source": "Look for null values in the fields -- There are none."
        },
        {
            "cell_type": "code",
            "execution_count": 20,
            "metadata": {
                "id": "f8e3995d-0b64-4b5f-b34b-8d7980343e1d",
                "scrolled": true
            },
            "outputs": [
                {
                    "data": {
                        "text/plain": "ID                    0\nDATE                  0\nREGION_CLUSTER        0\nMAINTENANCE_VENDOR    0\nMANUFACTURER          0\nWELL_GROUP            0\nS15                   0\nS17                   0\nS13                   0\nS5                    0\nS16                   0\nS19                   0\nS18                   0\nEQUIPMENT_FAILURE     0\nS8                    0\nAGE_OF_EQUIPMENT      0\ndtype: int64"
                    },
                    "execution_count": 20,
                    "metadata": {},
                    "output_type": "execute_result"
                }
            ],
            "source": "pd_data.isnull().sum(axis = 0)"
        },
        {
            "cell_type": "markdown",
            "metadata": {},
            "source": "Now let\u2019s examine the dependent variable in more detail. It appears that out of 307,751 records, we only have 421 failures. This corresponds to a failure rate of about .14%. In other words, for every failure, you have over 700 non-failures. This data set is very unbalanced. Later in this article, I will use a few techniques to mitigate the impact of a small number of observed failures."
        },
        {
            "cell_type": "code",
            "execution_count": 21,
            "metadata": {
                "id": "0ae13c4b-971c-44aa-a907-cc1e8e8fb39d"
            },
            "outputs": [
                {
                    "data": {
                        "text/html": "<div>\n<style scoped>\n    .dataframe tbody tr th:only-of-type {\n        vertical-align: middle;\n    }\n\n    .dataframe tbody tr th {\n        vertical-align: top;\n    }\n\n    .dataframe thead th {\n        text-align: right;\n    }\n</style>\n<table border=\"1\" class=\"dataframe\">\n  <thead>\n    <tr style=\"text-align: right;\">\n      <th></th>\n      <th>ID</th>\n    </tr>\n    <tr>\n      <th>EQUIPMENT_FAILURE</th>\n      <th></th>\n    </tr>\n  </thead>\n  <tbody>\n    <tr>\n      <th>0</th>\n      <td>307330</td>\n    </tr>\n    <tr>\n      <th>1</th>\n      <td>421</td>\n    </tr>\n  </tbody>\n</table>\n</div>",
                        "text/plain": "                       ID\nEQUIPMENT_FAILURE        \n0                  307330\n1                     421"
                    },
                    "execution_count": 21,
                    "metadata": {},
                    "output_type": "execute_result"
                }
            ],
            "source": "xxxx = pd.DataFrame(pd_data.groupby(['EQUIPMENT_FAILURE'])['ID'].agg('count'))\nxxxx"
        },
        {
            "cell_type": "markdown",
            "metadata": {},
            "source": "We can also explore the data with descriptive statistics."
        },
        {
            "cell_type": "code",
            "execution_count": 22,
            "metadata": {
                "id": "62de842d-b312-4e93-bc6d-821c4f11e176"
            },
            "outputs": [
                {
                    "data": {
                        "text/html": "<div>\n<style scoped>\n    .dataframe tbody tr th:only-of-type {\n        vertical-align: middle;\n    }\n\n    .dataframe tbody tr th {\n        vertical-align: top;\n    }\n\n    .dataframe thead th {\n        text-align: right;\n    }\n</style>\n<table border=\"1\" class=\"dataframe\">\n  <thead>\n    <tr style=\"text-align: right;\">\n      <th></th>\n      <th>ID</th>\n      <th>WELL_GROUP</th>\n      <th>S15</th>\n      <th>S17</th>\n      <th>S13</th>\n      <th>S5</th>\n      <th>S16</th>\n      <th>S19</th>\n      <th>S18</th>\n      <th>EQUIPMENT_FAILURE</th>\n      <th>S8</th>\n      <th>AGE_OF_EQUIPMENT</th>\n    </tr>\n  </thead>\n  <tbody>\n    <tr>\n      <th>count</th>\n      <td>307751.000000</td>\n      <td>307751.000000</td>\n      <td>307751.000000</td>\n      <td>307751.000000</td>\n      <td>307751.000000</td>\n      <td>307751.000000</td>\n      <td>307751.000000</td>\n      <td>307751.000000</td>\n      <td>307751.000000</td>\n      <td>307751.000000</td>\n      <td>307751.000000</td>\n      <td>307751.000000</td>\n    </tr>\n    <tr>\n      <th>mean</th>\n      <td>100310.826603</td>\n      <td>4.543943</td>\n      <td>14.585192</td>\n      <td>80.265541</td>\n      <td>35.018249</td>\n      <td>4675.848252</td>\n      <td>7.972097</td>\n      <td>9.069123</td>\n      <td>137.963064</td>\n      <td>0.001368</td>\n      <td>144.665715</td>\n      <td>2524.192399</td>\n    </tr>\n    <tr>\n      <th>std</th>\n      <td>177.574390</td>\n      <td>2.284121</td>\n      <td>8.817056</td>\n      <td>85.804273</td>\n      <td>14.446585</td>\n      <td>2521.074632</td>\n      <td>2.321949</td>\n      <td>16.898887</td>\n      <td>238.890128</td>\n      <td>0.036961</td>\n      <td>240.773926</td>\n      <td>3158.930976</td>\n    </tr>\n    <tr>\n      <th>min</th>\n      <td>100001.000000</td>\n      <td>1.000000</td>\n      <td>0.000000</td>\n      <td>0.000000</td>\n      <td>0.000000</td>\n      <td>0.000000</td>\n      <td>0.000000</td>\n      <td>0.000000</td>\n      <td>0.000000</td>\n      <td>0.000000</td>\n      <td>-16.490000</td>\n      <td>0.000000</td>\n    </tr>\n    <tr>\n      <th>25%</th>\n      <td>100161.000000</td>\n      <td>3.000000</td>\n      <td>7.694100</td>\n      <td>0.000000</td>\n      <td>28.200000</td>\n      <td>3209.000000</td>\n      <td>6.621500</td>\n      <td>0.900000</td>\n      <td>11.798276</td>\n      <td>0.000000</td>\n      <td>9.250000</td>\n      <td>721.000000</td>\n    </tr>\n    <tr>\n      <th>50%</th>\n      <td>100311.000000</td>\n      <td>5.000000</td>\n      <td>11.661600</td>\n      <td>31.680000</td>\n      <td>34.940000</td>\n      <td>4237.047619</td>\n      <td>8.004000</td>\n      <td>4.200000</td>\n      <td>38.200000</td>\n      <td>0.000000</td>\n      <td>53.080000</td>\n      <td>1113.000000</td>\n    </tr>\n    <tr>\n      <th>75%</th>\n      <td>100467.000000</td>\n      <td>6.000000</td>\n      <td>22.560000</td>\n      <td>160.080000</td>\n      <td>41.610000</td>\n      <td>5743.000000</td>\n      <td>9.460000</td>\n      <td>10.600000</td>\n      <td>150.900000</td>\n      <td>0.000000</td>\n      <td>165.092608</td>\n      <td>2784.000000</td>\n    </tr>\n    <tr>\n      <th>max</th>\n      <td>100617.000000</td>\n      <td>8.000000</td>\n      <td>59.040000</td>\n      <td>2555.520000</td>\n      <td>592.890000</td>\n      <td>52767.000000</td>\n      <td>24.600000</td>\n      <td>511.000000</td>\n      <td>4151.700000</td>\n      <td>1.000000</td>\n      <td>2068.110000</td>\n      <td>15170.000000</td>\n    </tr>\n  </tbody>\n</table>\n</div>",
                        "text/plain": "                  ID     WELL_GROUP            S15            S17  \\\ncount  307751.000000  307751.000000  307751.000000  307751.000000   \nmean   100310.826603       4.543943      14.585192      80.265541   \nstd       177.574390       2.284121       8.817056      85.804273   \nmin    100001.000000       1.000000       0.000000       0.000000   \n25%    100161.000000       3.000000       7.694100       0.000000   \n50%    100311.000000       5.000000      11.661600      31.680000   \n75%    100467.000000       6.000000      22.560000     160.080000   \nmax    100617.000000       8.000000      59.040000    2555.520000   \n\n                 S13             S5            S16            S19  \\\ncount  307751.000000  307751.000000  307751.000000  307751.000000   \nmean       35.018249    4675.848252       7.972097       9.069123   \nstd        14.446585    2521.074632       2.321949      16.898887   \nmin         0.000000       0.000000       0.000000       0.000000   \n25%        28.200000    3209.000000       6.621500       0.900000   \n50%        34.940000    4237.047619       8.004000       4.200000   \n75%        41.610000    5743.000000       9.460000      10.600000   \nmax       592.890000   52767.000000      24.600000     511.000000   \n\n                 S18  EQUIPMENT_FAILURE             S8  AGE_OF_EQUIPMENT  \ncount  307751.000000      307751.000000  307751.000000     307751.000000  \nmean      137.963064           0.001368     144.665715       2524.192399  \nstd       238.890128           0.036961     240.773926       3158.930976  \nmin         0.000000           0.000000     -16.490000          0.000000  \n25%        11.798276           0.000000       9.250000        721.000000  \n50%        38.200000           0.000000      53.080000       1113.000000  \n75%       150.900000           0.000000     165.092608       2784.000000  \nmax      4151.700000           1.000000    2068.110000      15170.000000  "
                    },
                    "execution_count": 22,
                    "metadata": {},
                    "output_type": "execute_result"
                }
            ],
            "source": "\npd_data.describe()"
        },
        {
            "cell_type": "markdown",
            "metadata": {},
            "source": "Examine a simple correlation of the independent variable with the dependent variable.  "
        },
        {
            "cell_type": "code",
            "execution_count": 25,
            "metadata": {
                "id": "20d98b64-b4c8-42db-8bde-200e78b705cf"
            },
            "outputs": [
                {
                    "ename": "ValueError",
                    "evalue": "could not convert string to float: '12/2/14'",
                    "output_type": "error",
                    "traceback": [
                        "\u001b[0;31m---------------------------------------------------------------------------\u001b[0m",
                        "\u001b[0;31mValueError\u001b[0m                                Traceback (most recent call last)",
                        "Cell \u001b[0;32mIn[25], line 1\u001b[0m\n\u001b[0;32m----> 1\u001b[0m xxx\u001b[38;5;241m=\u001b[39mpd_data\u001b[38;5;241m.\u001b[39mcorr( method\u001b[38;5;241m=\u001b[39m\u001b[38;5;124m'\u001b[39m\u001b[38;5;124mpearson\u001b[39m\u001b[38;5;124m'\u001b[39m)\n\u001b[1;32m      3\u001b[0m xxx\u001b[38;5;241m=\u001b[39mxxx[[\u001b[38;5;124m'\u001b[39m\u001b[38;5;124mEQUIPMENT_FAILURE\u001b[39m\u001b[38;5;124m'\u001b[39m]]\n\u001b[1;32m      4\u001b[0m xxx[\u001b[38;5;124m'\u001b[39m\u001b[38;5;124mABS_EQUIPMENT_FAILURE\u001b[39m\u001b[38;5;124m'\u001b[39m]\u001b[38;5;241m=\u001b[39m\u001b[38;5;28mabs\u001b[39m(xxx[\u001b[38;5;124m'\u001b[39m\u001b[38;5;124mEQUIPMENT_FAILURE\u001b[39m\u001b[38;5;124m'\u001b[39m])\n",
                        "File \u001b[0;32m/opt/conda/envs/Python-RT24.1/lib/python3.11/site-packages/pandas/core/frame.py:10704\u001b[0m, in \u001b[0;36mDataFrame.corr\u001b[0;34m(self, method, min_periods, numeric_only)\u001b[0m\n\u001b[1;32m  10702\u001b[0m cols \u001b[38;5;241m=\u001b[39m data\u001b[38;5;241m.\u001b[39mcolumns\n\u001b[1;32m  10703\u001b[0m idx \u001b[38;5;241m=\u001b[39m cols\u001b[38;5;241m.\u001b[39mcopy()\n\u001b[0;32m> 10704\u001b[0m mat \u001b[38;5;241m=\u001b[39m data\u001b[38;5;241m.\u001b[39mto_numpy(dtype\u001b[38;5;241m=\u001b[39m\u001b[38;5;28mfloat\u001b[39m, na_value\u001b[38;5;241m=\u001b[39mnp\u001b[38;5;241m.\u001b[39mnan, copy\u001b[38;5;241m=\u001b[39m\u001b[38;5;28;01mFalse\u001b[39;00m)\n\u001b[1;32m  10706\u001b[0m \u001b[38;5;28;01mif\u001b[39;00m method \u001b[38;5;241m==\u001b[39m \u001b[38;5;124m\"\u001b[39m\u001b[38;5;124mpearson\u001b[39m\u001b[38;5;124m\"\u001b[39m:\n\u001b[1;32m  10707\u001b[0m     correl \u001b[38;5;241m=\u001b[39m libalgos\u001b[38;5;241m.\u001b[39mnancorr(mat, minp\u001b[38;5;241m=\u001b[39mmin_periods)\n",
                        "File \u001b[0;32m/opt/conda/envs/Python-RT24.1/lib/python3.11/site-packages/pandas/core/frame.py:1889\u001b[0m, in \u001b[0;36mDataFrame.to_numpy\u001b[0;34m(self, dtype, copy, na_value)\u001b[0m\n\u001b[1;32m   1887\u001b[0m \u001b[38;5;28;01mif\u001b[39;00m dtype \u001b[38;5;129;01mis\u001b[39;00m \u001b[38;5;129;01mnot\u001b[39;00m \u001b[38;5;28;01mNone\u001b[39;00m:\n\u001b[1;32m   1888\u001b[0m     dtype \u001b[38;5;241m=\u001b[39m np\u001b[38;5;241m.\u001b[39mdtype(dtype)\n\u001b[0;32m-> 1889\u001b[0m result \u001b[38;5;241m=\u001b[39m \u001b[38;5;28mself\u001b[39m\u001b[38;5;241m.\u001b[39m_mgr\u001b[38;5;241m.\u001b[39mas_array(dtype\u001b[38;5;241m=\u001b[39mdtype, copy\u001b[38;5;241m=\u001b[39mcopy, na_value\u001b[38;5;241m=\u001b[39mna_value)\n\u001b[1;32m   1890\u001b[0m \u001b[38;5;28;01mif\u001b[39;00m result\u001b[38;5;241m.\u001b[39mdtype \u001b[38;5;129;01mis\u001b[39;00m \u001b[38;5;129;01mnot\u001b[39;00m dtype:\n\u001b[1;32m   1891\u001b[0m     result \u001b[38;5;241m=\u001b[39m np\u001b[38;5;241m.\u001b[39marray(result, dtype\u001b[38;5;241m=\u001b[39mdtype, copy\u001b[38;5;241m=\u001b[39m\u001b[38;5;28;01mFalse\u001b[39;00m)\n",
                        "File \u001b[0;32m/opt/conda/envs/Python-RT24.1/lib/python3.11/site-packages/pandas/core/internals/managers.py:1656\u001b[0m, in \u001b[0;36mBlockManager.as_array\u001b[0;34m(self, dtype, copy, na_value)\u001b[0m\n\u001b[1;32m   1654\u001b[0m         arr\u001b[38;5;241m.\u001b[39mflags\u001b[38;5;241m.\u001b[39mwriteable \u001b[38;5;241m=\u001b[39m \u001b[38;5;28;01mFalse\u001b[39;00m\n\u001b[1;32m   1655\u001b[0m \u001b[38;5;28;01melse\u001b[39;00m:\n\u001b[0;32m-> 1656\u001b[0m     arr \u001b[38;5;241m=\u001b[39m \u001b[38;5;28mself\u001b[39m\u001b[38;5;241m.\u001b[39m_interleave(dtype\u001b[38;5;241m=\u001b[39mdtype, na_value\u001b[38;5;241m=\u001b[39mna_value)\n\u001b[1;32m   1657\u001b[0m     \u001b[38;5;66;03m# The underlying data was copied within _interleave, so no need\u001b[39;00m\n\u001b[1;32m   1658\u001b[0m     \u001b[38;5;66;03m# to further copy if copy=True or setting na_value\u001b[39;00m\n\u001b[1;32m   1660\u001b[0m \u001b[38;5;28;01mif\u001b[39;00m na_value \u001b[38;5;129;01mis\u001b[39;00m lib\u001b[38;5;241m.\u001b[39mno_default:\n",
                        "File \u001b[0;32m/opt/conda/envs/Python-RT24.1/lib/python3.11/site-packages/pandas/core/internals/managers.py:1715\u001b[0m, in \u001b[0;36mBlockManager._interleave\u001b[0;34m(self, dtype, na_value)\u001b[0m\n\u001b[1;32m   1713\u001b[0m     \u001b[38;5;28;01melse\u001b[39;00m:\n\u001b[1;32m   1714\u001b[0m         arr \u001b[38;5;241m=\u001b[39m blk\u001b[38;5;241m.\u001b[39mget_values(dtype)\n\u001b[0;32m-> 1715\u001b[0m     result[rl\u001b[38;5;241m.\u001b[39mindexer] \u001b[38;5;241m=\u001b[39m arr\n\u001b[1;32m   1716\u001b[0m     itemmask[rl\u001b[38;5;241m.\u001b[39mindexer] \u001b[38;5;241m=\u001b[39m \u001b[38;5;241m1\u001b[39m\n\u001b[1;32m   1718\u001b[0m \u001b[38;5;28;01mif\u001b[39;00m \u001b[38;5;129;01mnot\u001b[39;00m itemmask\u001b[38;5;241m.\u001b[39mall():\n",
                        "\u001b[0;31mValueError\u001b[0m: could not convert string to float: '12/2/14'"
                    ]
                }
            ],
            "source": "xxx=pd_data.corr( method='pearson')\n\nxxx=xxx[['EQUIPMENT_FAILURE']]\nxxx['ABS_EQUIPMENT_FAILURE']=abs(xxx['EQUIPMENT_FAILURE'])\nxxx=xxx.sort_values(by=['ABS_EQUIPMENT_FAILURE'], ascending=[False])"
        },
        {
            "cell_type": "code",
            "execution_count": 24,
            "metadata": {
                "id": "8b559e99-946b-4f6f-9873-cf2a87fb5036",
                "scrolled": true
            },
            "outputs": [
                {
                    "ename": "NameError",
                    "evalue": "name 'xxx' is not defined",
                    "output_type": "error",
                    "traceback": [
                        "\u001b[0;31m---------------------------------------------------------------------------\u001b[0m",
                        "\u001b[0;31mNameError\u001b[0m                                 Traceback (most recent call last)",
                        "Cell \u001b[0;32mIn[24], line 1\u001b[0m\n\u001b[0;32m----> 1\u001b[0m xxx\n",
                        "\u001b[0;31mNameError\u001b[0m: name 'xxx' is not defined"
                    ]
                }
            ],
            "source": "xxx"
        },
        {
            "cell_type": "code",
            "execution_count": 30,
            "metadata": {
                "id": "83a7928a-30fb-4a2f-b2c5-5edfb8d7b417"
            },
            "outputs": [
                {
                    "ename": "SyntaxError",
                    "evalue": "invalid syntax (3461125697.py, line 1)",
                    "output_type": "error",
                    "traceback": [
                        "\u001b[0;36m  Cell \u001b[0;32mIn[30], line 1\u001b[0;36m\u001b[0m\n\u001b[0;31m    pd_data.[1:3]\u001b[0m\n\u001b[0m            ^\u001b[0m\n\u001b[0;31mSyntaxError\u001b[0m\u001b[0;31m:\u001b[0m invalid syntax\n"
                    ]
                }
            ],
            "source": ""
        },
        {
            "cell_type": "markdown",
            "metadata": {},
            "source": "### 3.0 Data transformations and Feature Engineering <a></a>"
        },
        {
            "cell_type": "markdown",
            "metadata": {},
            "source": "Next, we can transform our data for a machine learning model. Specifically, we will create running summaries of the sensor values. Running summaries of sensor values are often useful in predicting equipment failure. For example, if a temperature gauge indicates a machine is warmer than average for the last five days, it may mean something is wrong.\n\nRemember that we are working with a panel data set. That is, we have multiple machines measured over two years. As we create our running summaries, we have to make sure that our summaries do not include more than one machine. For example, if we create a ten-day moving average, we do not want the first nine days of a machine to have values from the previous machine.\n\nNote that I create twenty-one-day summaries in this example. This works for this use case, but it may be advantageous to use more or different time intervals for other situations.\n"
        },
        {
            "cell_type": "markdown",
            "metadata": {},
            "source": "Convert dates from character to date."
        },
        {
            "cell_type": "code",
            "execution_count": 31,
            "metadata": {
                "id": "24dfc038-4671-4769-a1e3-faaaf5771d09",
                "scrolled": true
            },
            "outputs": [
                {
                    "name": "stderr",
                    "output_type": "stream",
                    "text": "/tmp/wsuser/ipykernel_173/2012639156.py:1: UserWarning: Could not infer format, so each element will be parsed individually, falling back to `dateutil`. To ensure parsing is consistent and as-expected, please specify a format.\n  pd_data['DATE'] = pd.to_datetime(pd_data['DATE'])\n"
                }
            ],
            "source": "\n\npd_data['DATE'] = pd.to_datetime(pd_data['DATE'])\n\n\n\n"
        },
        {
            "cell_type": "markdown",
            "metadata": {},
            "source": "Create a new field called \u201cflipper\u201d that indicates when the id changes as the data are sorted by ID and DATE in ascending order. We will use this in a few other transformations."
        },
        {
            "cell_type": "code",
            "execution_count": 32,
            "metadata": {
                "id": "a10c1213-2488-4b03-8569-fe8b64c55494"
            },
            "outputs": [
                {
                    "data": {
                        "text/html": "<div>\n<style scoped>\n    .dataframe tbody tr th:only-of-type {\n        vertical-align: middle;\n    }\n\n    .dataframe tbody tr th {\n        vertical-align: top;\n    }\n\n    .dataframe thead th {\n        text-align: right;\n    }\n</style>\n<table border=\"1\" class=\"dataframe\">\n  <thead>\n    <tr style=\"text-align: right;\">\n      <th></th>\n      <th>ID</th>\n      <th>DATE</th>\n      <th>REGION_CLUSTER</th>\n      <th>MAINTENANCE_VENDOR</th>\n      <th>MANUFACTURER</th>\n      <th>WELL_GROUP</th>\n      <th>S15</th>\n      <th>S17</th>\n      <th>S13</th>\n      <th>S5</th>\n      <th>S16</th>\n      <th>S19</th>\n      <th>S18</th>\n      <th>EQUIPMENT_FAILURE</th>\n      <th>S8</th>\n      <th>AGE_OF_EQUIPMENT</th>\n      <th>flipper</th>\n    </tr>\n  </thead>\n  <tbody>\n    <tr>\n      <th>0</th>\n      <td>100001</td>\n      <td>2014-12-02</td>\n      <td>G</td>\n      <td>O</td>\n      <td>Y</td>\n      <td>1</td>\n      <td>11.088000</td>\n      <td>145.223448</td>\n      <td>39.34</td>\n      <td>3501.0</td>\n      <td>8.426869</td>\n      <td>1.9</td>\n      <td>24.610345</td>\n      <td>0</td>\n      <td>0.0</td>\n      <td>880</td>\n      <td>1</td>\n    </tr>\n    <tr>\n      <th>1</th>\n      <td>100001</td>\n      <td>2014-12-03</td>\n      <td>G</td>\n      <td>O</td>\n      <td>Y</td>\n      <td>1</td>\n      <td>8.877943</td>\n      <td>187.573214</td>\n      <td>39.20</td>\n      <td>3489.0</td>\n      <td>6.483714</td>\n      <td>1.9</td>\n      <td>24.671429</td>\n      <td>0</td>\n      <td>0.0</td>\n      <td>881</td>\n      <td>0</td>\n    </tr>\n    <tr>\n      <th>2</th>\n      <td>100001</td>\n      <td>2014-12-04</td>\n      <td>G</td>\n      <td>O</td>\n      <td>Y</td>\n      <td>1</td>\n      <td>8.676444</td>\n      <td>148.363704</td>\n      <td>38.87</td>\n      <td>3459.0</td>\n      <td>6.159659</td>\n      <td>2.0</td>\n      <td>24.733333</td>\n      <td>0</td>\n      <td>0.0</td>\n      <td>882</td>\n      <td>0</td>\n    </tr>\n    <tr>\n      <th>3</th>\n      <td>100001</td>\n      <td>2014-12-05</td>\n      <td>G</td>\n      <td>O</td>\n      <td>Y</td>\n      <td>1</td>\n      <td>9.988338</td>\n      <td>133.660000</td>\n      <td>39.47</td>\n      <td>3513.0</td>\n      <td>9.320308</td>\n      <td>2.0</td>\n      <td>24.773077</td>\n      <td>0</td>\n      <td>0.0</td>\n      <td>883</td>\n      <td>0</td>\n    </tr>\n    <tr>\n      <th>4</th>\n      <td>100001</td>\n      <td>2014-12-06</td>\n      <td>G</td>\n      <td>O</td>\n      <td>Y</td>\n      <td>1</td>\n      <td>8.475264</td>\n      <td>197.181600</td>\n      <td>40.33</td>\n      <td>3589.0</td>\n      <td>8.022960</td>\n      <td>1.5</td>\n      <td>24.808000</td>\n      <td>0</td>\n      <td>0.0</td>\n      <td>884</td>\n      <td>0</td>\n    </tr>\n  </tbody>\n</table>\n</div>",
                        "text/plain": "       ID       DATE REGION_CLUSTER MAINTENANCE_VENDOR MANUFACTURER  \\\n0  100001 2014-12-02              G                  O            Y   \n1  100001 2014-12-03              G                  O            Y   \n2  100001 2014-12-04              G                  O            Y   \n3  100001 2014-12-05              G                  O            Y   \n4  100001 2014-12-06              G                  O            Y   \n\n   WELL_GROUP        S15         S17    S13      S5       S16  S19        S18  \\\n0           1  11.088000  145.223448  39.34  3501.0  8.426869  1.9  24.610345   \n1           1   8.877943  187.573214  39.20  3489.0  6.483714  1.9  24.671429   \n2           1   8.676444  148.363704  38.87  3459.0  6.159659  2.0  24.733333   \n3           1   9.988338  133.660000  39.47  3513.0  9.320308  2.0  24.773077   \n4           1   8.475264  197.181600  40.33  3589.0  8.022960  1.5  24.808000   \n\n   EQUIPMENT_FAILURE   S8  AGE_OF_EQUIPMENT  flipper  \n0                  0  0.0               880        1  \n1                  0  0.0               881        0  \n2                  0  0.0               882        0  \n3                  0  0.0               883        0  \n4                  0  0.0               884        0  "
                    },
                    "execution_count": 32,
                    "metadata": {},
                    "output_type": "execute_result"
                }
            ],
            "source": "pd_data=pd_data.sort_values(by=['ID','DATE'], ascending=[True, True])\n\npd_data['flipper'] = np.where((pd_data.ID != pd_data.ID.shift(1)), 1, 0)\npd_data.head()"
        },
        {
            "cell_type": "markdown",
            "metadata": {},
            "source": "Running summaries are often useful transformations for these types of problems.  For example, a running mean would be the average value over the last x days.  X, in this case, is the feature window.  The feature window is a parameter that depends on the context of the business problem.  I am setting the value to 21 days, but this may or may not work for your business problem."
        },
        {
            "cell_type": "code",
            "execution_count": 33,
            "metadata": {
                "id": "074bf0a2-4a93-4319-8d98-bf96f2709cc5"
            },
            "outputs": [],
            "source": "#define your feature window. This is the window by which we will aggregate our sensor values.\nfeature_window=21"
        },
        {
            "cell_type": "markdown",
            "metadata": {},
            "source": "Calculate the number of days from the first day a machine appears to the current day. This field will be called \u201cTIME_SINCE_START\u201d Also, create a variable called \u201ctoo_soon.\u201d When \u201ctoo_soon\u201d is equal to 1, we have less than 21 days (feature_window) of history for the machine.\n\nWe will use these new variables to create a running mean, median, max, and min. \n"
        },
        {
            "cell_type": "code",
            "execution_count": 34,
            "metadata": {
                "id": "cad7e124-e7df-4fab-8b36-e8b83987bb2d"
            },
            "outputs": [],
            "source": "dfx=pd_data"
        },
        {
            "cell_type": "code",
            "execution_count": 35,
            "metadata": {
                "id": "d1b1b66b-266a-4191-9b94-025a5195aa97"
            },
            "outputs": [],
            "source": "#Select the first record of each machine\n\nstarter=dfx[dfx['flipper'] == 1]\n\nstarter=starter[['DATE','ID']]"
        },
        {
            "cell_type": "code",
            "execution_count": 36,
            "metadata": {
                "id": "270a9c2e-c10d-4aca-8e40-c68f105a2149"
            },
            "outputs": [],
            "source": "#rename date to start_date\nstarter=starter.rename(index=str, columns={\"DATE\": \"START_DATE\"})"
        },
        {
            "cell_type": "code",
            "execution_count": 39,
            "metadata": {
                "id": "e7f5794a-5f90-4042-9d02-d2de003bb9f4"
            },
            "outputs": [
                {
                    "data": {
                        "text/plain": "(421, 2)"
                    },
                    "execution_count": 39,
                    "metadata": {},
                    "output_type": "execute_result"
                }
            ],
            "source": "starter.shape"
        },
        {
            "cell_type": "code",
            "execution_count": 40,
            "metadata": {
                "id": "987e10af-df6e-4c79-8fa6-0cbd52df3f34"
            },
            "outputs": [],
            "source": "#convert START_DATE to date\nstarter['START_DATE'] = pd.to_datetime(starter['START_DATE'])"
        },
        {
            "cell_type": "code",
            "execution_count": 41,
            "metadata": {
                "id": "7d7af2c9-fd50-4a2b-97e6-73eef0bf289d"
            },
            "outputs": [],
            "source": "#Merge START_DATE to the original data set\n\ndfx=dfx.sort_values(by=['ID', 'DATE'], ascending=[True, True])\nstarter=starter.sort_values(by=['ID'], ascending=[True])\ndfx =dfx.merge(starter, on=['ID'], how='left')"
        },
        {
            "cell_type": "code",
            "execution_count": 42,
            "metadata": {
                "id": "a7be25b2-7aea-402c-9695-3f64f26f7b4e"
            },
            "outputs": [],
            "source": "# calculate the number of days since the beginning of each well. \ndfx['C'] = dfx['DATE'] - dfx['START_DATE']\ndfx['TIME_SINCE_START'] = dfx['C'] / np.timedelta64(1, 'D')\ndfx=dfx.drop(columns=['C'])\ndfx['too_soon'] = np.where((dfx.TIME_SINCE_START < feature_window) , 1, 0)"
        },
        {
            "cell_type": "markdown",
            "metadata": {},
            "source": "Create a running mean, max, min, and median for the sensor variables."
        },
        {
            "cell_type": "code",
            "execution_count": 43,
            "metadata": {
                "id": "cd130cee-55f8-4625-931e-d263d3dc29d2",
                "scrolled": true
            },
            "outputs": [
                {
                    "data": {
                        "text/html": "<div>\n<style scoped>\n    .dataframe tbody tr th:only-of-type {\n        vertical-align: middle;\n    }\n\n    .dataframe tbody tr th {\n        vertical-align: top;\n    }\n\n    .dataframe thead th {\n        text-align: right;\n    }\n</style>\n<table border=\"1\" class=\"dataframe\">\n  <thead>\n    <tr style=\"text-align: right;\">\n      <th></th>\n      <th>ID</th>\n      <th>DATE</th>\n      <th>REGION_CLUSTER</th>\n      <th>MAINTENANCE_VENDOR</th>\n      <th>MANUFACTURER</th>\n      <th>WELL_GROUP</th>\n      <th>S15</th>\n      <th>S17</th>\n      <th>S13</th>\n      <th>S5</th>\n      <th>...</th>\n      <th>S17_max</th>\n      <th>S17_min</th>\n      <th>S18_mean</th>\n      <th>S18_median</th>\n      <th>S18_max</th>\n      <th>S18_min</th>\n      <th>S19_mean</th>\n      <th>S19_median</th>\n      <th>S19_max</th>\n      <th>S19_min</th>\n    </tr>\n  </thead>\n  <tbody>\n    <tr>\n      <th>0</th>\n      <td>100001</td>\n      <td>2014-12-02</td>\n      <td>G</td>\n      <td>O</td>\n      <td>Y</td>\n      <td>1</td>\n      <td>11.088000</td>\n      <td>145.223448</td>\n      <td>39.34</td>\n      <td>3501.0</td>\n      <td>...</td>\n      <td>145.223448</td>\n      <td>145.223448</td>\n      <td>24.610345</td>\n      <td>24.610345</td>\n      <td>24.610345</td>\n      <td>24.610345</td>\n      <td>1.9</td>\n      <td>1.9</td>\n      <td>1.9</td>\n      <td>1.9</td>\n    </tr>\n    <tr>\n      <th>1</th>\n      <td>100001</td>\n      <td>2014-12-03</td>\n      <td>G</td>\n      <td>O</td>\n      <td>Y</td>\n      <td>1</td>\n      <td>8.877943</td>\n      <td>187.573214</td>\n      <td>39.20</td>\n      <td>3489.0</td>\n      <td>...</td>\n      <td>187.573214</td>\n      <td>187.573214</td>\n      <td>24.671429</td>\n      <td>24.671429</td>\n      <td>24.671429</td>\n      <td>24.671429</td>\n      <td>1.9</td>\n      <td>1.9</td>\n      <td>1.9</td>\n      <td>1.9</td>\n    </tr>\n    <tr>\n      <th>2</th>\n      <td>100001</td>\n      <td>2014-12-04</td>\n      <td>G</td>\n      <td>O</td>\n      <td>Y</td>\n      <td>1</td>\n      <td>8.676444</td>\n      <td>148.363704</td>\n      <td>38.87</td>\n      <td>3459.0</td>\n      <td>...</td>\n      <td>148.363704</td>\n      <td>148.363704</td>\n      <td>24.733333</td>\n      <td>24.733333</td>\n      <td>24.733333</td>\n      <td>24.733333</td>\n      <td>2.0</td>\n      <td>2.0</td>\n      <td>2.0</td>\n      <td>2.0</td>\n    </tr>\n    <tr>\n      <th>3</th>\n      <td>100001</td>\n      <td>2014-12-05</td>\n      <td>G</td>\n      <td>O</td>\n      <td>Y</td>\n      <td>1</td>\n      <td>9.988338</td>\n      <td>133.660000</td>\n      <td>39.47</td>\n      <td>3513.0</td>\n      <td>...</td>\n      <td>133.660000</td>\n      <td>133.660000</td>\n      <td>24.773077</td>\n      <td>24.773077</td>\n      <td>24.773077</td>\n      <td>24.773077</td>\n      <td>2.0</td>\n      <td>2.0</td>\n      <td>2.0</td>\n      <td>2.0</td>\n    </tr>\n    <tr>\n      <th>4</th>\n      <td>100001</td>\n      <td>2014-12-06</td>\n      <td>G</td>\n      <td>O</td>\n      <td>Y</td>\n      <td>1</td>\n      <td>8.475264</td>\n      <td>197.181600</td>\n      <td>40.33</td>\n      <td>3589.0</td>\n      <td>...</td>\n      <td>197.181600</td>\n      <td>197.181600</td>\n      <td>24.808000</td>\n      <td>24.808000</td>\n      <td>24.808000</td>\n      <td>24.808000</td>\n      <td>1.5</td>\n      <td>1.5</td>\n      <td>1.5</td>\n      <td>1.5</td>\n    </tr>\n  </tbody>\n</table>\n<p>5 rows \u00d7 48 columns</p>\n</div>",
                        "text/plain": "       ID       DATE REGION_CLUSTER MAINTENANCE_VENDOR MANUFACTURER  \\\n0  100001 2014-12-02              G                  O            Y   \n1  100001 2014-12-03              G                  O            Y   \n2  100001 2014-12-04              G                  O            Y   \n3  100001 2014-12-05              G                  O            Y   \n4  100001 2014-12-06              G                  O            Y   \n\n   WELL_GROUP        S15         S17    S13      S5  ...     S17_max  \\\n0           1  11.088000  145.223448  39.34  3501.0  ...  145.223448   \n1           1   8.877943  187.573214  39.20  3489.0  ...  187.573214   \n2           1   8.676444  148.363704  38.87  3459.0  ...  148.363704   \n3           1   9.988338  133.660000  39.47  3513.0  ...  133.660000   \n4           1   8.475264  197.181600  40.33  3589.0  ...  197.181600   \n\n      S17_min   S18_mean  S18_median    S18_max    S18_min  S19_mean  \\\n0  145.223448  24.610345   24.610345  24.610345  24.610345       1.9   \n1  187.573214  24.671429   24.671429  24.671429  24.671429       1.9   \n2  148.363704  24.733333   24.733333  24.733333  24.733333       2.0   \n3  133.660000  24.773077   24.773077  24.773077  24.773077       2.0   \n4  197.181600  24.808000   24.808000  24.808000  24.808000       1.5   \n\n  S19_median  S19_max  S19_min  \n0        1.9      1.9      1.9  \n1        1.9      1.9      1.9  \n2        2.0      2.0      2.0  \n3        2.0      2.0      2.0  \n4        1.5      1.5      1.5  \n\n[5 rows x 48 columns]"
                    },
                    "execution_count": 43,
                    "metadata": {},
                    "output_type": "execute_result"
                }
            ],
            "source": "dfx['S5_mean'] = np.where((dfx.too_soon == 0),(dfx['S5'].rolling(min_periods=1, window=feature_window).mean()) , dfx.S5)\ndfx['S5_median'] = np.where((dfx.too_soon == 0),(dfx['S5'].rolling(min_periods=1, window=feature_window).median()) , dfx.S5)\ndfx['S5_max'] = np.where((dfx.too_soon == 0),(dfx['S5'].rolling(min_periods=1, window=feature_window).max()) , dfx.S5)\ndfx['S5_min'] = np.where((dfx.too_soon == 0),(dfx['S5'].rolling(min_periods=1, window=feature_window).min()) , dfx.S5)\n\n\ndfx['S13_mean'] = np.where((dfx.too_soon == 0),(dfx['S13'].rolling(min_periods=1, window=feature_window).mean()) , dfx.S13)\ndfx['S13_median'] = np.where((dfx.too_soon == 0),(dfx['S13'].rolling(min_periods=1, window=feature_window).median()) , dfx.S13)\ndfx['S13_max'] = np.where((dfx.too_soon == 0),(dfx['S13'].rolling(min_periods=1, window=feature_window).max()) , dfx.S13)\ndfx['S13_min'] = np.where((dfx.too_soon == 0),(dfx['S13'].rolling(min_periods=1, window=feature_window).min()) , dfx.S13)\n\n\ndfx['S15_mean'] = np.where((dfx.too_soon == 0),(dfx['S15'].rolling(min_periods=1, window=feature_window).mean()) , dfx.S15)\ndfx['S15_median'] = np.where((dfx.too_soon == 0),(dfx['S15'].rolling(min_periods=1, window=feature_window).median()) , dfx.S15)\ndfx['S15_max'] = np.where((dfx.too_soon == 0),(dfx['S15'].rolling(min_periods=1, window=feature_window).max()) , dfx.S15)\ndfx['S15_min'] = np.where((dfx.too_soon == 0),(dfx['S15'].rolling(min_periods=1, window=feature_window).min()) , dfx.S15)\n\ndfx['S16_mean'] = np.where((dfx.too_soon == 0),(dfx['S16'].rolling(min_periods=1, window=feature_window).mean()) , dfx.S16)\ndfx['S16_median'] = np.where((dfx.too_soon == 0),(dfx['S16'].rolling(min_periods=1, window=feature_window).median()) , dfx.S16)\ndfx['S16_max'] = np.where((dfx.too_soon == 0),(dfx['S16'].rolling(min_periods=1, window=feature_window).max()) , dfx.S16)\ndfx['S16_min'] = np.where((dfx.too_soon == 0),(dfx['S16'].rolling(min_periods=1, window=feature_window).min()) , dfx.S16)\n\n\ndfx['S17_mean'] = np.where((dfx.too_soon == 0),(dfx['S17'].rolling(min_periods=1, window=feature_window).mean()) , dfx.S17)\ndfx['S17_median'] = np.where((dfx.too_soon == 0),(dfx['S17'].rolling(min_periods=1, window=feature_window).median()) , dfx.S17)\ndfx['S17_max'] = np.where((dfx.too_soon == 0),(dfx['S17'].rolling(min_periods=1, window=feature_window).max()) , dfx.S17)\ndfx['S17_min'] = np.where((dfx.too_soon == 0),(dfx['S17'].rolling(min_periods=1, window=feature_window).min()) , dfx.S17)\n\ndfx['S18_mean'] = np.where((dfx.too_soon == 0),(dfx['S18'].rolling(min_periods=1, window=feature_window).mean()) , dfx.S18)\ndfx['S18_median'] = np.where((dfx.too_soon == 0),(dfx['S18'].rolling(min_periods=1, window=feature_window).median()) , dfx.S18)\ndfx['S18_max'] = np.where((dfx.too_soon == 0),(dfx['S18'].rolling(min_periods=1, window=feature_window).max()) , dfx.S18)\ndfx['S18_min'] = np.where((dfx.too_soon == 0),(dfx['S18'].rolling(min_periods=1, window=feature_window).min()) , dfx.S18)\n\n\n\ndfx['S19_mean'] = np.where((dfx.too_soon == 0),(dfx['S19'].rolling(min_periods=1, window=feature_window).mean()) , dfx.S19)\ndfx['S19_median'] = np.where((dfx.too_soon == 0),(dfx['S19'].rolling(min_periods=1, window=feature_window).median()) , dfx.S19)\ndfx['S19_max'] = np.where((dfx.too_soon == 0),(dfx['S19'].rolling(min_periods=1, window=feature_window).max()) , dfx.S19)\ndfx['S19_min'] = np.where((dfx.too_soon == 0),(dfx['S19'].rolling(min_periods=1, window=feature_window).min()) , dfx.S19)\n\n\ndfx.head()"
        },
        {
            "cell_type": "markdown",
            "metadata": {},
            "source": "Another useful transformation is to look for sudden spikes in sensor values. This code creates a value indicating how far the current value is from the immediate norm."
        },
        {
            "cell_type": "code",
            "execution_count": 44,
            "metadata": {
                "id": "c35840ed-1e64-49bb-b628-026efd2d2ebe",
                "scrolled": true
            },
            "outputs": [],
            "source": "dfx['S5_chg'] = np.where((dfx.S5_mean == 0),0 , dfx.S5/dfx.S5_mean)\n\n\ndfx['S13_chg'] = np.where((dfx.S13_mean == 0),0 , dfx.S13/dfx.S13_mean)\n\ndfx['S15_chg'] = np.where((dfx.S15_mean==0),0 , dfx.S15/dfx.S15_mean)\ndfx['S16_chg'] = np.where((dfx.S16_mean == 0),0 , dfx.S16/dfx.S16_mean)\ndfx['S17_chg'] = np.where((dfx.S17_mean == 0),0 , dfx.S17/dfx.S17_mean)\ndfx['S18_chg'] = np.where((dfx.S18_mean == 0),0 , dfx.S18/dfx.S18_mean)\ndfx['S19_chg'] = np.where((dfx.S19_mean == 0),0 , dfx.S19/dfx.S19_mean)"
        },
        {
            "cell_type": "code",
            "execution_count": 45,
            "metadata": {
                "id": "efb9f7bd-389c-416a-8232-5d0f2823515b"
            },
            "outputs": [],
            "source": "#copy the data set to the original name\npd_data=dfx"
        },
        {
            "cell_type": "markdown",
            "metadata": {},
            "source": "### 4.0 Dealing with the small number of failures. <a></a>"
        },
        {
            "cell_type": "markdown",
            "metadata": {},
            "source": "#### 4.1 Expand the Failure (Target) Window <a></a>"
        },
        {
            "cell_type": "markdown",
            "metadata": {},
            "source": "Machines are engineered to last. If something breaks all the time, you won\u2019t buy it, would you?\n\nBecause machines generally last a long time, we typically do not have many examples of failure. This means the data sets we use in PM are almost always unbalanced. \n\nOne way to increase the number of failures is to expand the failure or target window. That is, make the dependent variable, not just the day the equipment failed but the 28 days (or another appropriate interval) leading up to the failure.\n\nIn this example, I use a 28-day target window. We will use the 28 days leading up to a failure as the dependent variable in our model.\n"
        },
        {
            "cell_type": "code",
            "execution_count": 46,
            "metadata": {
                "id": "4bee91bd-ee40-4191-85cb-a538ea30fba4"
            },
            "outputs": [],
            "source": "target_window=28"
        },
        {
            "cell_type": "markdown",
            "metadata": {},
            "source": "Sort the data and reset the index."
        },
        {
            "cell_type": "code",
            "execution_count": 47,
            "metadata": {
                "id": "7263af56-68de-4af9-bc40-9a895db18d4c",
                "scrolled": true
            },
            "outputs": [],
            "source": "pd_data=pd_data.sort_values(by=['ID', 'DATE'], ascending=[True, True])\npd_data.reset_index(level=0, inplace=True)"
        },
        {
            "cell_type": "markdown",
            "metadata": {},
            "source": "Create a new data frame that contains the failure records.  Rename DATE to FAILURE_DATE"
        },
        {
            "cell_type": "code",
            "execution_count": 48,
            "metadata": {
                "id": "7de43c36-0a24-4ba1-8c0f-9747306139d4",
                "scrolled": true
            },
            "outputs": [],
            "source": "\n\ndf_failure_thingy=pd_data[pd_data['EQUIPMENT_FAILURE'] == 1]\n\ndf_failure_thingy=df_failure_thingy[['DATE','ID']]\n\ndf_failure_thingy=df_failure_thingy.rename(index=str, columns={\"DATE\": \"FAILURE_DATE\"})\n\npd_data=pd_data.sort_values(by=['ID'], ascending=[True])\ndf_failure_thingy=df_failure_thingy.sort_values(by=['ID'], ascending=[True])\n"
        },
        {
            "cell_type": "markdown",
            "metadata": {},
            "source": "Append the FAILURE_DATE to each ID."
        },
        {
            "cell_type": "code",
            "execution_count": 49,
            "metadata": {
                "id": "b661169e-4cbb-458a-abca-a80c1859ff06",
                "scrolled": true
            },
            "outputs": [],
            "source": "\n\npd_data =pd_data.merge(df_failure_thingy, on=['ID'], how='left')"
        },
        {
            "cell_type": "markdown",
            "metadata": {},
            "source": "For each record, calculate the number of days until failure."
        },
        {
            "cell_type": "code",
            "execution_count": 50,
            "metadata": {
                "id": "99fb76ec-29d9-4c3c-a4d2-daaaf9a3b92c",
                "scrolled": true
            },
            "outputs": [],
            "source": "\n\npd_data=pd_data.sort_values(by=['ID','DATE'], ascending=[True, True])\n\npd_data['FAILURE_DATE'] = pd.to_datetime(pd_data['FAILURE_DATE'])\npd_data['DATE'] = pd.to_datetime(pd_data['DATE'])\npd_data['C'] = pd_data['FAILURE_DATE'] - pd_data['DATE']\n\npd_data['TIME_TO_FAILURE'] = pd_data['C'] / np.timedelta64(1, 'D')"
        },
        {
            "cell_type": "markdown",
            "metadata": {},
            "source": "Clean up and sort the records by ID and DATE"
        },
        {
            "cell_type": "code",
            "execution_count": 51,
            "metadata": {
                "id": "20bb1605-bb10-4461-8405-c9ca534076d4"
            },
            "outputs": [],
            "source": "pd_data=pd_data.drop(columns=['index'])"
        },
        {
            "cell_type": "code",
            "execution_count": 52,
            "metadata": {
                "id": "52b9e61a-3ffb-4b2a-ae3c-f29cea49bcd6",
                "scrolled": true
            },
            "outputs": [],
            "source": "pd_data=pd_data.sort_values(by=['ID', 'DATE'], ascending=[True, True])\n\n"
        },
        {
            "cell_type": "code",
            "execution_count": 53,
            "metadata": {
                "id": "bf316fc1-b782-4bba-b989-939ae55de563"
            },
            "outputs": [],
            "source": "pd_data.reset_index(inplace=True)\n"
        },
        {
            "cell_type": "code",
            "execution_count": 54,
            "metadata": {
                "id": "c03445fa-2e84-4738-9f3b-b3805dbad780"
            },
            "outputs": [
                {
                    "data": {
                        "text/html": "<div>\n<style scoped>\n    .dataframe tbody tr th:only-of-type {\n        vertical-align: middle;\n    }\n\n    .dataframe tbody tr th {\n        vertical-align: top;\n    }\n\n    .dataframe thead th {\n        text-align: right;\n    }\n</style>\n<table border=\"1\" class=\"dataframe\">\n  <thead>\n    <tr style=\"text-align: right;\">\n      <th></th>\n      <th>index</th>\n      <th>ID</th>\n      <th>DATE</th>\n      <th>REGION_CLUSTER</th>\n      <th>MAINTENANCE_VENDOR</th>\n      <th>MANUFACTURER</th>\n      <th>WELL_GROUP</th>\n      <th>S15</th>\n      <th>S17</th>\n      <th>S13</th>\n      <th>...</th>\n      <th>S5_chg</th>\n      <th>S13_chg</th>\n      <th>S15_chg</th>\n      <th>S16_chg</th>\n      <th>S17_chg</th>\n      <th>S18_chg</th>\n      <th>S19_chg</th>\n      <th>FAILURE_DATE</th>\n      <th>C</th>\n      <th>TIME_TO_FAILURE</th>\n    </tr>\n  </thead>\n  <tbody>\n    <tr>\n      <th>0</th>\n      <td>0</td>\n      <td>100001</td>\n      <td>2014-12-02</td>\n      <td>G</td>\n      <td>O</td>\n      <td>Y</td>\n      <td>1</td>\n      <td>11.088000</td>\n      <td>145.223448</td>\n      <td>39.34</td>\n      <td>...</td>\n      <td>1.0</td>\n      <td>1.0</td>\n      <td>1.0</td>\n      <td>1.0</td>\n      <td>1.0</td>\n      <td>1.0</td>\n      <td>1.0</td>\n      <td>2015-04-24</td>\n      <td>143 days</td>\n      <td>143.0</td>\n    </tr>\n    <tr>\n      <th>1</th>\n      <td>549</td>\n      <td>100001</td>\n      <td>2014-12-03</td>\n      <td>G</td>\n      <td>O</td>\n      <td>Y</td>\n      <td>1</td>\n      <td>8.877943</td>\n      <td>187.573214</td>\n      <td>39.20</td>\n      <td>...</td>\n      <td>1.0</td>\n      <td>1.0</td>\n      <td>1.0</td>\n      <td>1.0</td>\n      <td>1.0</td>\n      <td>1.0</td>\n      <td>1.0</td>\n      <td>2015-04-24</td>\n      <td>142 days</td>\n      <td>142.0</td>\n    </tr>\n    <tr>\n      <th>2</th>\n      <td>483</td>\n      <td>100001</td>\n      <td>2014-12-04</td>\n      <td>G</td>\n      <td>O</td>\n      <td>Y</td>\n      <td>1</td>\n      <td>8.676444</td>\n      <td>148.363704</td>\n      <td>38.87</td>\n      <td>...</td>\n      <td>1.0</td>\n      <td>1.0</td>\n      <td>1.0</td>\n      <td>1.0</td>\n      <td>1.0</td>\n      <td>1.0</td>\n      <td>1.0</td>\n      <td>2015-04-24</td>\n      <td>141 days</td>\n      <td>141.0</td>\n    </tr>\n    <tr>\n      <th>3</th>\n      <td>484</td>\n      <td>100001</td>\n      <td>2014-12-05</td>\n      <td>G</td>\n      <td>O</td>\n      <td>Y</td>\n      <td>1</td>\n      <td>9.988338</td>\n      <td>133.660000</td>\n      <td>39.47</td>\n      <td>...</td>\n      <td>1.0</td>\n      <td>1.0</td>\n      <td>1.0</td>\n      <td>1.0</td>\n      <td>1.0</td>\n      <td>1.0</td>\n      <td>1.0</td>\n      <td>2015-04-24</td>\n      <td>140 days</td>\n      <td>140.0</td>\n    </tr>\n    <tr>\n      <th>4</th>\n      <td>485</td>\n      <td>100001</td>\n      <td>2014-12-06</td>\n      <td>G</td>\n      <td>O</td>\n      <td>Y</td>\n      <td>1</td>\n      <td>8.475264</td>\n      <td>197.181600</td>\n      <td>40.33</td>\n      <td>...</td>\n      <td>1.0</td>\n      <td>1.0</td>\n      <td>1.0</td>\n      <td>1.0</td>\n      <td>1.0</td>\n      <td>1.0</td>\n      <td>1.0</td>\n      <td>2015-04-24</td>\n      <td>139 days</td>\n      <td>139.0</td>\n    </tr>\n  </tbody>\n</table>\n<p>5 rows \u00d7 59 columns</p>\n</div>",
                        "text/plain": "   index      ID       DATE REGION_CLUSTER MAINTENANCE_VENDOR MANUFACTURER  \\\n0      0  100001 2014-12-02              G                  O            Y   \n1    549  100001 2014-12-03              G                  O            Y   \n2    483  100001 2014-12-04              G                  O            Y   \n3    484  100001 2014-12-05              G                  O            Y   \n4    485  100001 2014-12-06              G                  O            Y   \n\n   WELL_GROUP        S15         S17    S13  ...  S5_chg  S13_chg  S15_chg  \\\n0           1  11.088000  145.223448  39.34  ...     1.0      1.0      1.0   \n1           1   8.877943  187.573214  39.20  ...     1.0      1.0      1.0   \n2           1   8.676444  148.363704  38.87  ...     1.0      1.0      1.0   \n3           1   9.988338  133.660000  39.47  ...     1.0      1.0      1.0   \n4           1   8.475264  197.181600  40.33  ...     1.0      1.0      1.0   \n\n   S16_chg  S17_chg  S18_chg  S19_chg  FAILURE_DATE        C  TIME_TO_FAILURE  \n0      1.0      1.0      1.0      1.0    2015-04-24 143 days            143.0  \n1      1.0      1.0      1.0      1.0    2015-04-24 142 days            142.0  \n2      1.0      1.0      1.0      1.0    2015-04-24 141 days            141.0  \n3      1.0      1.0      1.0      1.0    2015-04-24 140 days            140.0  \n4      1.0      1.0      1.0      1.0    2015-04-24 139 days            139.0  \n\n[5 rows x 59 columns]"
                    },
                    "execution_count": 54,
                    "metadata": {},
                    "output_type": "execute_result"
                }
            ],
            "source": "pd_data.head()"
        },
        {
            "cell_type": "markdown",
            "metadata": {},
            "source": "Create a new variable, FAILURE_TARGET.  It is equal to 1 if the record proceeds a failure by \"failure_window\" days or less."
        },
        {
            "cell_type": "code",
            "execution_count": 55,
            "metadata": {
                "id": "1831bd89-7266-44c1-936c-b877073c94ad",
                "scrolled": true
            },
            "outputs": [
                {
                    "data": {
                        "text/html": "<div>\n<style scoped>\n    .dataframe tbody tr th:only-of-type {\n        vertical-align: middle;\n    }\n\n    .dataframe tbody tr th {\n        vertical-align: top;\n    }\n\n    .dataframe thead th {\n        text-align: right;\n    }\n</style>\n<table border=\"1\" class=\"dataframe\">\n  <thead>\n    <tr style=\"text-align: right;\">\n      <th></th>\n      <th>index</th>\n      <th>ID</th>\n      <th>DATE</th>\n      <th>REGION_CLUSTER</th>\n      <th>MAINTENANCE_VENDOR</th>\n      <th>MANUFACTURER</th>\n      <th>WELL_GROUP</th>\n      <th>S15</th>\n      <th>S17</th>\n      <th>S13</th>\n      <th>...</th>\n      <th>S13_chg</th>\n      <th>S15_chg</th>\n      <th>S16_chg</th>\n      <th>S17_chg</th>\n      <th>S18_chg</th>\n      <th>S19_chg</th>\n      <th>FAILURE_DATE</th>\n      <th>C</th>\n      <th>TIME_TO_FAILURE</th>\n      <th>FAILURE_TARGET</th>\n    </tr>\n  </thead>\n  <tbody>\n    <tr>\n      <th>0</th>\n      <td>0</td>\n      <td>100001</td>\n      <td>2014-12-02</td>\n      <td>G</td>\n      <td>O</td>\n      <td>Y</td>\n      <td>1</td>\n      <td>11.088000</td>\n      <td>145.223448</td>\n      <td>39.34</td>\n      <td>...</td>\n      <td>1.0</td>\n      <td>1.0</td>\n      <td>1.0</td>\n      <td>1.0</td>\n      <td>1.0</td>\n      <td>1.0</td>\n      <td>2015-04-24</td>\n      <td>143 days</td>\n      <td>143.0</td>\n      <td>0</td>\n    </tr>\n    <tr>\n      <th>1</th>\n      <td>549</td>\n      <td>100001</td>\n      <td>2014-12-03</td>\n      <td>G</td>\n      <td>O</td>\n      <td>Y</td>\n      <td>1</td>\n      <td>8.877943</td>\n      <td>187.573214</td>\n      <td>39.20</td>\n      <td>...</td>\n      <td>1.0</td>\n      <td>1.0</td>\n      <td>1.0</td>\n      <td>1.0</td>\n      <td>1.0</td>\n      <td>1.0</td>\n      <td>2015-04-24</td>\n      <td>142 days</td>\n      <td>142.0</td>\n      <td>0</td>\n    </tr>\n    <tr>\n      <th>2</th>\n      <td>483</td>\n      <td>100001</td>\n      <td>2014-12-04</td>\n      <td>G</td>\n      <td>O</td>\n      <td>Y</td>\n      <td>1</td>\n      <td>8.676444</td>\n      <td>148.363704</td>\n      <td>38.87</td>\n      <td>...</td>\n      <td>1.0</td>\n      <td>1.0</td>\n      <td>1.0</td>\n      <td>1.0</td>\n      <td>1.0</td>\n      <td>1.0</td>\n      <td>2015-04-24</td>\n      <td>141 days</td>\n      <td>141.0</td>\n      <td>0</td>\n    </tr>\n    <tr>\n      <th>3</th>\n      <td>484</td>\n      <td>100001</td>\n      <td>2014-12-05</td>\n      <td>G</td>\n      <td>O</td>\n      <td>Y</td>\n      <td>1</td>\n      <td>9.988338</td>\n      <td>133.660000</td>\n      <td>39.47</td>\n      <td>...</td>\n      <td>1.0</td>\n      <td>1.0</td>\n      <td>1.0</td>\n      <td>1.0</td>\n      <td>1.0</td>\n      <td>1.0</td>\n      <td>2015-04-24</td>\n      <td>140 days</td>\n      <td>140.0</td>\n      <td>0</td>\n    </tr>\n    <tr>\n      <th>4</th>\n      <td>485</td>\n      <td>100001</td>\n      <td>2014-12-06</td>\n      <td>G</td>\n      <td>O</td>\n      <td>Y</td>\n      <td>1</td>\n      <td>8.475264</td>\n      <td>197.181600</td>\n      <td>40.33</td>\n      <td>...</td>\n      <td>1.0</td>\n      <td>1.0</td>\n      <td>1.0</td>\n      <td>1.0</td>\n      <td>1.0</td>\n      <td>1.0</td>\n      <td>2015-04-24</td>\n      <td>139 days</td>\n      <td>139.0</td>\n      <td>0</td>\n    </tr>\n  </tbody>\n</table>\n<p>5 rows \u00d7 60 columns</p>\n</div>",
                        "text/plain": "   index      ID       DATE REGION_CLUSTER MAINTENANCE_VENDOR MANUFACTURER  \\\n0      0  100001 2014-12-02              G                  O            Y   \n1    549  100001 2014-12-03              G                  O            Y   \n2    483  100001 2014-12-04              G                  O            Y   \n3    484  100001 2014-12-05              G                  O            Y   \n4    485  100001 2014-12-06              G                  O            Y   \n\n   WELL_GROUP        S15         S17    S13  ...  S13_chg  S15_chg  S16_chg  \\\n0           1  11.088000  145.223448  39.34  ...      1.0      1.0      1.0   \n1           1   8.877943  187.573214  39.20  ...      1.0      1.0      1.0   \n2           1   8.676444  148.363704  38.87  ...      1.0      1.0      1.0   \n3           1   9.988338  133.660000  39.47  ...      1.0      1.0      1.0   \n4           1   8.475264  197.181600  40.33  ...      1.0      1.0      1.0   \n\n   S17_chg  S18_chg  S19_chg  FAILURE_DATE        C TIME_TO_FAILURE  \\\n0      1.0      1.0      1.0    2015-04-24 143 days           143.0   \n1      1.0      1.0      1.0    2015-04-24 142 days           142.0   \n2      1.0      1.0      1.0    2015-04-24 141 days           141.0   \n3      1.0      1.0      1.0    2015-04-24 140 days           140.0   \n4      1.0      1.0      1.0    2015-04-24 139 days           139.0   \n\n   FAILURE_TARGET  \n0               0  \n1               0  \n2               0  \n3               0  \n4               0  \n\n[5 rows x 60 columns]"
                    },
                    "execution_count": 55,
                    "metadata": {},
                    "output_type": "execute_result"
                }
            ],
            "source": "pd_data['FAILURE_TARGET'] = np.where(((pd_data.TIME_TO_FAILURE < target_window) & ((pd_data.TIME_TO_FAILURE>=0))), 1, 0)\n\npd_data.head()"
        },
        {
            "cell_type": "code",
            "execution_count": 56,
            "metadata": {
                "id": "1d2c59e7-e9b8-4d02-b2fd-e3061f664ff6"
            },
            "outputs": [
                {
                    "data": {
                        "text/plain": "FAILURE_TARGET\n0    296011\n1     11740\nName: S5, dtype: int64"
                    },
                    "execution_count": 56,
                    "metadata": {},
                    "output_type": "execute_result"
                }
            ],
            "source": "tips_summed = pd_data.groupby(['FAILURE_TARGET'])['S5'].count()\ntips_summed"
        },
        {
            "cell_type": "markdown",
            "metadata": {},
            "source": "The new field occurs about 4% of the time."
        },
        {
            "cell_type": "code",
            "execution_count": 57,
            "metadata": {
                "id": "5c9a0b08-2011-4ea1-abc1-c66775df32b8"
            },
            "outputs": [
                {
                    "data": {
                        "text/plain": "0.03814772332177637"
                    },
                    "execution_count": 57,
                    "metadata": {},
                    "output_type": "execute_result"
                }
            ],
            "source": "pd_data['FAILURE_TARGET'].mean()"
        },
        {
            "cell_type": "markdown",
            "metadata": {},
            "source": "Now we have 11,740 target observations. This is better, but the data set is far from balanced. In the next section, we will use SMOTE to increase the number of failures synthetically. However, let\u2019s split our data into training, testing, and a validation sample before we do that."
        },
        {
            "cell_type": "markdown",
            "metadata": {},
            "source": "#### 4.2 Create the Testing, Training and Validation Groupings <a></a>"
        },
        {
            "cell_type": "markdown",
            "metadata": {},
            "source": "Because we are dealing with a panel data set (cross-sectional time-series), it is better not to take a random sample of all records. Doing so would put the records from one machine in all three sample data sets. To avoid this, we\u2019ll randomly select IDs and place all of the records for each machine in either the training, testing, or validation data set."
        },
        {
            "cell_type": "code",
            "execution_count": 58,
            "metadata": {
                "id": "5f7faca1-5351-42a8-b2f2-e3d9ffafd313",
                "scrolled": true
            },
            "outputs": [
                {
                    "data": {
                        "text/plain": "(421, 1)"
                    },
                    "execution_count": 58,
                    "metadata": {},
                    "output_type": "execute_result"
                }
            ],
            "source": "#Get a Unique List of All IDs \n\n\naa=pd_data\n\npd_id=aa.drop_duplicates(subset='ID')\npd_id=pd_id[['ID']]\npd_id.shape\n"
        },
        {
            "cell_type": "markdown",
            "metadata": {},
            "source": "Create a new variable with a random number between 0 and 1"
        },
        {
            "cell_type": "code",
            "execution_count": 60,
            "metadata": {
                "id": "cf210022-4eb5-4b8f-8298-6dd505780bec"
            },
            "outputs": [],
            "source": "np.random.seed(42)"
        },
        {
            "cell_type": "code",
            "execution_count": 61,
            "metadata": {
                "id": "d14d7b14-04b7-4ab5-8fd3-f54eaafd77b9",
                "scrolled": true
            },
            "outputs": [],
            "source": "pd_id['wookie'] = (np.random.randint(0, 10000, pd_id.shape[0]))/10000"
        },
        {
            "cell_type": "code",
            "execution_count": 62,
            "metadata": {
                "id": "6cc4ae36-0ff9-44fa-a23b-e743941a245a",
                "scrolled": true
            },
            "outputs": [],
            "source": "\npd_id=pd_id[['ID', 'wookie']]"
        },
        {
            "cell_type": "markdown",
            "metadata": {},
            "source": "Give each record a 30% chance of being in the validation, a 35% chance of being in the testing, and a 35% chance of being in the training data set.\n"
        },
        {
            "cell_type": "code",
            "execution_count": 63,
            "metadata": {
                "id": "c4278b62-657a-4306-bee1-e87b600f318a",
                "scrolled": true
            },
            "outputs": [],
            "source": "pd_id['MODELING_GROUP'] = np.where(((pd_id.wookie <= 0.35)), 'TRAINING', np.where(((pd_id.wookie <= 0.65)), 'VALIDATION', 'TESTING'))"
        },
        {
            "cell_type": "markdown",
            "metadata": {},
            "source": "This is how many machines fall in each group."
        },
        {
            "cell_type": "code",
            "execution_count": 65,
            "metadata": {
                "id": "45ff0b72-2391-4b19-a0d1-c2b1558c0118",
                "scrolled": true
            },
            "outputs": [
                {
                    "data": {
                        "text/plain": "MODELING_GROUP\nTESTING       149\nTRAINING      146\nVALIDATION    126\nName: wookie, dtype: int64"
                    },
                    "execution_count": 65,
                    "metadata": {},
                    "output_type": "execute_result"
                }
            ],
            "source": "tips_summed = pd_id.groupby(['MODELING_GROUP'])['wookie'].count()\ntips_summed"
        },
        {
            "cell_type": "markdown",
            "metadata": {},
            "source": "Append the Group of each id to each individual record."
        },
        {
            "cell_type": "code",
            "execution_count": 66,
            "metadata": {
                "id": "f0ea74cd-7313-4a34-9425-06c35b8f6d6c",
                "scrolled": true
            },
            "outputs": [],
            "source": "pd_data=pd_data.sort_values(by=['ID'], ascending=[True])\npd_id=pd_id.sort_values(by=['ID'], ascending=[True])"
        },
        {
            "cell_type": "code",
            "execution_count": 67,
            "metadata": {
                "id": "d7fb442b-54fa-478d-98fd-60051c4180eb",
                "scrolled": true
            },
            "outputs": [
                {
                    "data": {
                        "text/html": "<div>\n<style scoped>\n    .dataframe tbody tr th:only-of-type {\n        vertical-align: middle;\n    }\n\n    .dataframe tbody tr th {\n        vertical-align: top;\n    }\n\n    .dataframe thead th {\n        text-align: right;\n    }\n</style>\n<table border=\"1\" class=\"dataframe\">\n  <thead>\n    <tr style=\"text-align: right;\">\n      <th></th>\n      <th>index</th>\n      <th>ID</th>\n      <th>DATE</th>\n      <th>REGION_CLUSTER</th>\n      <th>MAINTENANCE_VENDOR</th>\n      <th>MANUFACTURER</th>\n      <th>WELL_GROUP</th>\n      <th>S15</th>\n      <th>S17</th>\n      <th>S13</th>\n      <th>...</th>\n      <th>S16_chg</th>\n      <th>S17_chg</th>\n      <th>S18_chg</th>\n      <th>S19_chg</th>\n      <th>FAILURE_DATE</th>\n      <th>C</th>\n      <th>TIME_TO_FAILURE</th>\n      <th>FAILURE_TARGET</th>\n      <th>wookie</th>\n      <th>MODELING_GROUP</th>\n    </tr>\n  </thead>\n  <tbody>\n    <tr>\n      <th>0</th>\n      <td>0</td>\n      <td>100001</td>\n      <td>2014-12-02</td>\n      <td>G</td>\n      <td>O</td>\n      <td>Y</td>\n      <td>1</td>\n      <td>11.088</td>\n      <td>145.223448</td>\n      <td>39.34</td>\n      <td>...</td>\n      <td>1.000000</td>\n      <td>1.0</td>\n      <td>1.000000</td>\n      <td>1.000000</td>\n      <td>2015-04-24</td>\n      <td>143 days</td>\n      <td>143.0</td>\n      <td>0</td>\n      <td>0.727</td>\n      <td>TESTING</td>\n    </tr>\n    <tr>\n      <th>1</th>\n      <td>1</td>\n      <td>100001</td>\n      <td>2016-03-29</td>\n      <td>G</td>\n      <td>O</td>\n      <td>Y</td>\n      <td>1</td>\n      <td>18.960</td>\n      <td>0.000000</td>\n      <td>38.87</td>\n      <td>...</td>\n      <td>1.080334</td>\n      <td>0.0</td>\n      <td>0.909801</td>\n      <td>0.613483</td>\n      <td>2015-04-24</td>\n      <td>-340 days</td>\n      <td>-340.0</td>\n      <td>0</td>\n      <td>0.727</td>\n      <td>TESTING</td>\n    </tr>\n    <tr>\n      <th>2</th>\n      <td>2</td>\n      <td>100001</td>\n      <td>2016-03-30</td>\n      <td>G</td>\n      <td>O</td>\n      <td>Y</td>\n      <td>1</td>\n      <td>29.040</td>\n      <td>0.000000</td>\n      <td>37.36</td>\n      <td>...</td>\n      <td>1.093691</td>\n      <td>0.0</td>\n      <td>0.906040</td>\n      <td>0.677419</td>\n      <td>2015-04-24</td>\n      <td>-341 days</td>\n      <td>-341.0</td>\n      <td>0</td>\n      <td>0.727</td>\n      <td>TESTING</td>\n    </tr>\n    <tr>\n      <th>3</th>\n      <td>3</td>\n      <td>100001</td>\n      <td>2016-03-31</td>\n      <td>G</td>\n      <td>O</td>\n      <td>Y</td>\n      <td>1</td>\n      <td>18.000</td>\n      <td>0.000000</td>\n      <td>38.81</td>\n      <td>...</td>\n      <td>0.910905</td>\n      <td>0.0</td>\n      <td>0.919466</td>\n      <td>0.695035</td>\n      <td>2015-04-24</td>\n      <td>-342 days</td>\n      <td>-342.0</td>\n      <td>0</td>\n      <td>0.727</td>\n      <td>TESTING</td>\n    </tr>\n    <tr>\n      <th>4</th>\n      <td>4</td>\n      <td>100001</td>\n      <td>2016-04-01</td>\n      <td>G</td>\n      <td>O</td>\n      <td>Y</td>\n      <td>1</td>\n      <td>26.160</td>\n      <td>0.000000</td>\n      <td>39.47</td>\n      <td>...</td>\n      <td>1.160104</td>\n      <td>0.0</td>\n      <td>0.932363</td>\n      <td>0.690141</td>\n      <td>2015-04-24</td>\n      <td>-343 days</td>\n      <td>-343.0</td>\n      <td>0</td>\n      <td>0.727</td>\n      <td>TESTING</td>\n    </tr>\n  </tbody>\n</table>\n<p>5 rows \u00d7 62 columns</p>\n</div>",
                        "text/plain": "   index      ID       DATE REGION_CLUSTER MAINTENANCE_VENDOR MANUFACTURER  \\\n0      0  100001 2014-12-02              G                  O            Y   \n1      1  100001 2016-03-29              G                  O            Y   \n2      2  100001 2016-03-30              G                  O            Y   \n3      3  100001 2016-03-31              G                  O            Y   \n4      4  100001 2016-04-01              G                  O            Y   \n\n   WELL_GROUP     S15         S17    S13  ...   S16_chg  S17_chg   S18_chg  \\\n0           1  11.088  145.223448  39.34  ...  1.000000      1.0  1.000000   \n1           1  18.960    0.000000  38.87  ...  1.080334      0.0  0.909801   \n2           1  29.040    0.000000  37.36  ...  1.093691      0.0  0.906040   \n3           1  18.000    0.000000  38.81  ...  0.910905      0.0  0.919466   \n4           1  26.160    0.000000  39.47  ...  1.160104      0.0  0.932363   \n\n    S19_chg  FAILURE_DATE         C  TIME_TO_FAILURE  FAILURE_TARGET wookie  \\\n0  1.000000    2015-04-24  143 days            143.0               0  0.727   \n1  0.613483    2015-04-24 -340 days           -340.0               0  0.727   \n2  0.677419    2015-04-24 -341 days           -341.0               0  0.727   \n3  0.695035    2015-04-24 -342 days           -342.0               0  0.727   \n4  0.690141    2015-04-24 -343 days           -343.0               0  0.727   \n\n   MODELING_GROUP  \n0         TESTING  \n1         TESTING  \n2         TESTING  \n3         TESTING  \n4         TESTING  \n\n[5 rows x 62 columns]"
                    },
                    "execution_count": 67,
                    "metadata": {},
                    "output_type": "execute_result"
                }
            ],
            "source": "pd_data =pd_data.merge(pd_id, on=['ID'], how='inner')\n\npd_data.head()"
        },
        {
            "cell_type": "markdown",
            "metadata": {},
            "source": "This is how many records are in each group."
        },
        {
            "cell_type": "code",
            "execution_count": 68,
            "metadata": {
                "id": "54357833-cf02-49d1-8368-3a1705919f11",
                "scrolled": true
            },
            "outputs": [
                {
                    "data": {
                        "text/plain": "MODELING_GROUP\nTESTING       108919\nTRAINING      106726\nVALIDATION     92106\nName: wookie, dtype: int64"
                    },
                    "execution_count": 68,
                    "metadata": {},
                    "output_type": "execute_result"
                }
            ],
            "source": "tips_summed = pd_data.groupby(['MODELING_GROUP'])['wookie'].count()\ntips_summed"
        },
        {
            "cell_type": "markdown",
            "metadata": {},
            "source": "This is how many failure targets are in each group."
        },
        {
            "cell_type": "code",
            "execution_count": 69,
            "metadata": {
                "id": "8bd45e41-a7c1-4dc5-9a87-22bf2cb45f6e",
                "scrolled": true
            },
            "outputs": [
                {
                    "data": {
                        "text/plain": "MODELING_GROUP\nTESTING       4151\nTRAINING      4071\nVALIDATION    3518\nName: FAILURE_TARGET, dtype: int64"
                    },
                    "execution_count": 69,
                    "metadata": {},
                    "output_type": "execute_result"
                }
            ],
            "source": "tips_summed = pd_data.groupby(['MODELING_GROUP'])['FAILURE_TARGET'].sum()\ntips_summed"
        },
        {
            "cell_type": "markdown",
            "metadata": {},
            "source": "Create a separate data frame for the training data.  We will use this data set to build the model."
        },
        {
            "cell_type": "code",
            "execution_count": 70,
            "metadata": {
                "id": "5bf01a9e-9fd6-4002-be2b-cee4ad1d4c5a"
            },
            "outputs": [
                {
                    "data": {
                        "text/plain": "(106726, 56)"
                    },
                    "execution_count": 70,
                    "metadata": {},
                    "output_type": "execute_result"
                }
            ],
            "source": "df_training=pd_data[pd_data['MODELING_GROUP'] == 'TRAINING']\ndf_training=df_training.drop(columns=['MODELING_GROUP','C','wookie','TIME_TO_FAILURE','flipper','START_DATE'])\ndf_training.shape"
        },
        {
            "cell_type": "markdown",
            "metadata": {},
            "source": "Create a separate data frame for the training and testing data sets.  We will use this to tweak our modeling results."
        },
        {
            "cell_type": "code",
            "execution_count": 71,
            "metadata": {
                "id": "8881836c-7981-4a62-be7a-f557025c74e7",
                "scrolled": true
            },
            "outputs": [
                {
                    "data": {
                        "text/plain": "(215645, 58)"
                    },
                    "execution_count": 71,
                    "metadata": {},
                    "output_type": "execute_result"
                }
            ],
            "source": "df_train_test=pd_data[pd_data['MODELING_GROUP'] != 'VALIDATION']\n\ndf_train_test=df_train_test.drop(columns=['wookie','TIME_TO_FAILURE','flipper','START_DATE'])\ndf_train_test.shape"
        },
        {
            "cell_type": "markdown",
            "metadata": {},
            "source": "Create a separate data frame for all the data. We will use this to validate the model and compare the accuracy of all groups."
        },
        {
            "cell_type": "code",
            "execution_count": 72,
            "metadata": {
                "id": "208c1844-b38e-4ee2-bb02-880fc293eed1"
            },
            "outputs": [
                {
                    "data": {
                        "text/plain": "(307751, 57)"
                    },
                    "execution_count": 72,
                    "metadata": {},
                    "output_type": "execute_result"
                }
            ],
            "source": "df_total=pd_data.drop(columns=['C','wookie','TIME_TO_FAILURE','flipper','START_DATE'])\ndf_total.shape"
        },
        {
            "cell_type": "markdown",
            "metadata": {},
            "source": "#### 4.3 SMOTE the Training Data <a></a>"
        },
        {
            "cell_type": "markdown",
            "metadata": {},
            "source": "Note that we are only balancing the training data set. You may be asking why. Remember that our goal is to build a model the represents reality, right? When we SMOTE the data, we change the failure rate to 50%. This is nowhere near what we see in the actual machine data.  Thus, it makes sense to build the model on the SMOTE data but evaluate it on the unaltered data. The unaltered data will be a better reflection of what to expect when you deploy the model to production.\n\nDefine the Training features and Target."
        },
        {
            "cell_type": "code",
            "execution_count": 73,
            "metadata": {
                "id": "0372af4c-155a-4789-977b-9a03fca0aed5",
                "scrolled": true
            },
            "outputs": [],
            "source": "training_features=df_training[['REGION_CLUSTER','MAINTENANCE_VENDOR','MANUFACTURER','WELL_GROUP','AGE_OF_EQUIPMENT','S15','S17','S13','S5',\n 'S16','S19','S18','S8','S5_mean','S5_median','S5_max','S5_min','S13_mean','S13_median','S13_max','S13_min','S15_mean','S15_median',\n 'S15_max','S15_min','S16_mean','S16_median','S16_max','S16_min','S17_mean','S17_median','S17_max','S17_min','S18_mean','S18_median','S18_max','S18_min','S19_mean','S19_median','S19_max','S19_min',\n 'S5_chg','S13_chg','S15_chg','S16_chg','S17_chg','S18_chg','S19_chg']]"
        },
        {
            "cell_type": "code",
            "execution_count": 74,
            "metadata": {
                "id": "08bb2374-f3b4-44d5-815e-c1691805bc69",
                "scrolled": true
            },
            "outputs": [],
            "source": "training_target=df_training[['FAILURE_TARGET']]"
        },
        {
            "cell_type": "markdown",
            "metadata": {},
            "source": "Synthetically Balance the training data sets with a SMOTE algorithm. After we apply the SMOTE algorithm, we will have a balanced data set. 50% Failures and 50% Non-Failures. Note that this takes a while to run."
        },
        {
            "cell_type": "code",
            "execution_count": 75,
            "metadata": {
                "id": "a3512338-ba4b-46e9-a077-1f81edaa3f7f"
            },
            "outputs": [],
            "source": "#uncomment these options if you want to expand the number of rows and columns that appear visually on the screen.\n\n#pd.set_option('display.max_columns', None)\n#pd.set_option('display.max_rows', None)"
        },
        {
            "cell_type": "code",
            "execution_count": 77,
            "metadata": {
                "id": "de6e6801-27ab-4fdd-b265-791db89bb50a"
            },
            "outputs": [],
            "source": "from imblearn.over_sampling import SMOTE\nfrom imblearn.over_sampling import SMOTENC\nsmx = SMOTENC(random_state=12,  categorical_features=[0, 1, 2, 3])"
        },
        {
            "cell_type": "code",
            "execution_count": 78,
            "metadata": {
                "id": "5c505e96-d9bf-4d1e-95e9-1ff6cef4635c"
            },
            "outputs": [],
            "source": "x_res, y_res = smx.fit_resample(training_features, training_target.values.ravel())"
        },
        {
            "cell_type": "markdown",
            "metadata": {},
            "source": "Convert the SMOTE output back to complete data frames with independent and dependent variables.  Examine the results."
        },
        {
            "cell_type": "markdown",
            "metadata": {},
            "source": "Format the Independent Variables."
        },
        {
            "cell_type": "code",
            "execution_count": 79,
            "metadata": {
                "id": "94b7975a-4061-4a43-afc4-a29c6fdb1e3d"
            },
            "outputs": [
                {
                    "data": {
                        "text/html": "<div>\n<style scoped>\n    .dataframe tbody tr th:only-of-type {\n        vertical-align: middle;\n    }\n\n    .dataframe tbody tr th {\n        vertical-align: top;\n    }\n\n    .dataframe thead th {\n        text-align: right;\n    }\n</style>\n<table border=\"1\" class=\"dataframe\">\n  <thead>\n    <tr style=\"text-align: right;\">\n      <th></th>\n      <th>REGION_CLUSTER</th>\n      <th>MAINTENANCE_VENDOR</th>\n      <th>MANUFACTURER</th>\n      <th>WELL_GROUP</th>\n      <th>AGE_OF_EQUIPMENT</th>\n      <th>S15</th>\n      <th>S17</th>\n      <th>S13</th>\n      <th>S5</th>\n      <th>S16</th>\n      <th>...</th>\n      <th>S19_median</th>\n      <th>S19_max</th>\n      <th>S19_min</th>\n      <th>S5_chg</th>\n      <th>S13_chg</th>\n      <th>S15_chg</th>\n      <th>S16_chg</th>\n      <th>S17_chg</th>\n      <th>S18_chg</th>\n      <th>S19_chg</th>\n    </tr>\n  </thead>\n  <tbody>\n    <tr>\n      <th>0</th>\n      <td>D</td>\n      <td>L</td>\n      <td>R</td>\n      <td>6</td>\n      <td>1308</td>\n      <td>15.5184</td>\n      <td>188.10</td>\n      <td>36.29</td>\n      <td>4318.0</td>\n      <td>8.0073</td>\n      <td>...</td>\n      <td>22.4</td>\n      <td>28.9</td>\n      <td>22.4</td>\n      <td>0.989654</td>\n      <td>0.989779</td>\n      <td>1.208706</td>\n      <td>0.913224</td>\n      <td>1.150727</td>\n      <td>0.995684</td>\n      <td>0.911805</td>\n    </tr>\n    <tr>\n      <th>1</th>\n      <td>D</td>\n      <td>L</td>\n      <td>R</td>\n      <td>6</td>\n      <td>1307</td>\n      <td>10.3032</td>\n      <td>149.24</td>\n      <td>36.78</td>\n      <td>4377.0</td>\n      <td>7.0766</td>\n      <td>...</td>\n      <td>22.4</td>\n      <td>28.9</td>\n      <td>22.4</td>\n      <td>1.001165</td>\n      <td>1.001141</td>\n      <td>0.800762</td>\n      <td>0.799231</td>\n      <td>0.931453</td>\n      <td>0.991996</td>\n      <td>0.911805</td>\n    </tr>\n    <tr>\n      <th>2</th>\n      <td>D</td>\n      <td>L</td>\n      <td>R</td>\n      <td>6</td>\n      <td>1306</td>\n      <td>11.4480</td>\n      <td>187.45</td>\n      <td>35.84</td>\n      <td>4265.0</td>\n      <td>8.0259</td>\n      <td>...</td>\n      <td>22.4</td>\n      <td>28.9</td>\n      <td>22.4</td>\n      <td>0.974444</td>\n      <td>0.974443</td>\n      <td>0.886546</td>\n      <td>0.906484</td>\n      <td>1.158515</td>\n      <td>0.985806</td>\n      <td>0.911805</td>\n    </tr>\n    <tr>\n      <th>3</th>\n      <td>D</td>\n      <td>L</td>\n      <td>R</td>\n      <td>6</td>\n      <td>1302</td>\n      <td>15.1368</td>\n      <td>148.33</td>\n      <td>37.53</td>\n      <td>4466.0</td>\n      <td>8.7163</td>\n      <td>...</td>\n      <td>22.4</td>\n      <td>28.9</td>\n      <td>22.4</td>\n      <td>1.015319</td>\n      <td>1.015344</td>\n      <td>1.168344</td>\n      <td>0.992329</td>\n      <td>0.922866</td>\n      <td>0.973863</td>\n      <td>0.911805</td>\n    </tr>\n    <tr>\n      <th>4</th>\n      <td>D</td>\n      <td>L</td>\n      <td>R</td>\n      <td>6</td>\n      <td>1304</td>\n      <td>14.3736</td>\n      <td>179.30</td>\n      <td>36.31</td>\n      <td>4321.0</td>\n      <td>7.9396</td>\n      <td>...</td>\n      <td>22.4</td>\n      <td>28.9</td>\n      <td>22.4</td>\n      <td>0.983099</td>\n      <td>0.983085</td>\n      <td>1.094500</td>\n      <td>0.902220</td>\n      <td>1.132530</td>\n      <td>0.980886</td>\n      <td>0.911805</td>\n    </tr>\n  </tbody>\n</table>\n<p>5 rows \u00d7 48 columns</p>\n</div>",
                        "text/plain": "  REGION_CLUSTER MAINTENANCE_VENDOR MANUFACTURER  WELL_GROUP  \\\n0              D                  L            R           6   \n1              D                  L            R           6   \n2              D                  L            R           6   \n3              D                  L            R           6   \n4              D                  L            R           6   \n\n   AGE_OF_EQUIPMENT      S15     S17    S13      S5     S16  ...  S19_median  \\\n0              1308  15.5184  188.10  36.29  4318.0  8.0073  ...        22.4   \n1              1307  10.3032  149.24  36.78  4377.0  7.0766  ...        22.4   \n2              1306  11.4480  187.45  35.84  4265.0  8.0259  ...        22.4   \n3              1302  15.1368  148.33  37.53  4466.0  8.7163  ...        22.4   \n4              1304  14.3736  179.30  36.31  4321.0  7.9396  ...        22.4   \n\n   S19_max  S19_min    S5_chg   S13_chg   S15_chg   S16_chg   S17_chg  \\\n0     28.9     22.4  0.989654  0.989779  1.208706  0.913224  1.150727   \n1     28.9     22.4  1.001165  1.001141  0.800762  0.799231  0.931453   \n2     28.9     22.4  0.974444  0.974443  0.886546  0.906484  1.158515   \n3     28.9     22.4  1.015319  1.015344  1.168344  0.992329  0.922866   \n4     28.9     22.4  0.983099  0.983085  1.094500  0.902220  1.132530   \n\n    S18_chg   S19_chg  \n0  0.995684  0.911805  \n1  0.991996  0.911805  \n2  0.985806  0.911805  \n3  0.973863  0.911805  \n4  0.980886  0.911805  \n\n[5 rows x 48 columns]"
                    },
                    "execution_count": 79,
                    "metadata": {},
                    "output_type": "execute_result"
                }
            ],
            "source": "df_x=pd.DataFrame(x_res)\n\ndf_x.columns = [\n 'REGION_CLUSTER','MAINTENANCE_VENDOR','MANUFACTURER','WELL_GROUP','AGE_OF_EQUIPMENT','S15','S17','S13','S5','S16','S19',\n 'S18','S8','S5_mean','S5_median','S5_max','S5_min','S13_mean','S13_median','S13_max','S13_min','S15_mean','S15_median','S15_max',\n 'S15_min','S16_mean','S16_median','S16_max','S16_min','S17_mean','S17_median','S17_max','S17_min','S18_mean','S18_median','S18_max','S18_min',\n 'S19_mean','S19_median','S19_max','S19_min','S5_chg','S13_chg','S15_chg','S16_chg','S17_chg','S18_chg','S19_chg']\ndf_x.head()"
        },
        {
            "cell_type": "markdown",
            "metadata": {},
            "source": "Format the Dependent Variable."
        },
        {
            "cell_type": "code",
            "execution_count": 80,
            "metadata": {
                "id": "c2a87e3f-e0c5-4153-b784-3de2210fbccf"
            },
            "outputs": [],
            "source": "df_y=pd.DataFrame(y_res)\ndf_y.columns = ['FAILURE_TARGET']"
        },
        {
            "cell_type": "markdown",
            "metadata": {},
            "source": "Check that the dependent variable is balanced.  It is."
        },
        {
            "cell_type": "code",
            "execution_count": 81,
            "metadata": {
                "id": "6388fbb3-b5ad-4ae6-a66f-c28316086a7e"
            },
            "outputs": [
                {
                    "data": {
                        "text/plain": "FAILURE_TARGET    0.5\ndtype: float64"
                    },
                    "execution_count": 81,
                    "metadata": {},
                    "output_type": "execute_result"
                }
            ],
            "source": "df_y.mean(axis = 0) "
        },
        {
            "cell_type": "markdown",
            "metadata": {
                "scrolled": true
            },
            "source": "Merge the dependent and independent variables post SMOTE into a data frame."
        },
        {
            "cell_type": "code",
            "execution_count": 82,
            "metadata": {
                "id": "9b86dff3-3d6c-46e6-9afc-2073990a1df4"
            },
            "outputs": [
                {
                    "data": {
                        "text/html": "<div>\n<style scoped>\n    .dataframe tbody tr th:only-of-type {\n        vertical-align: middle;\n    }\n\n    .dataframe tbody tr th {\n        vertical-align: top;\n    }\n\n    .dataframe thead th {\n        text-align: right;\n    }\n</style>\n<table border=\"1\" class=\"dataframe\">\n  <thead>\n    <tr style=\"text-align: right;\">\n      <th></th>\n      <th>FAILURE_TARGET</th>\n      <th>REGION_CLUSTER</th>\n      <th>MAINTENANCE_VENDOR</th>\n      <th>MANUFACTURER</th>\n      <th>WELL_GROUP</th>\n      <th>AGE_OF_EQUIPMENT</th>\n      <th>S15</th>\n      <th>S17</th>\n      <th>S13</th>\n      <th>S5</th>\n      <th>...</th>\n      <th>S19_median</th>\n      <th>S19_max</th>\n      <th>S19_min</th>\n      <th>S5_chg</th>\n      <th>S13_chg</th>\n      <th>S15_chg</th>\n      <th>S16_chg</th>\n      <th>S17_chg</th>\n      <th>S18_chg</th>\n      <th>S19_chg</th>\n    </tr>\n  </thead>\n  <tbody>\n    <tr>\n      <th>0</th>\n      <td>0</td>\n      <td>D</td>\n      <td>L</td>\n      <td>R</td>\n      <td>6</td>\n      <td>1308</td>\n      <td>15.5184</td>\n      <td>188.10</td>\n      <td>36.29</td>\n      <td>4318.0</td>\n      <td>...</td>\n      <td>22.4</td>\n      <td>28.9</td>\n      <td>22.4</td>\n      <td>0.989654</td>\n      <td>0.989779</td>\n      <td>1.208706</td>\n      <td>0.913224</td>\n      <td>1.150727</td>\n      <td>0.995684</td>\n      <td>0.911805</td>\n    </tr>\n    <tr>\n      <th>1</th>\n      <td>0</td>\n      <td>D</td>\n      <td>L</td>\n      <td>R</td>\n      <td>6</td>\n      <td>1307</td>\n      <td>10.3032</td>\n      <td>149.24</td>\n      <td>36.78</td>\n      <td>4377.0</td>\n      <td>...</td>\n      <td>22.4</td>\n      <td>28.9</td>\n      <td>22.4</td>\n      <td>1.001165</td>\n      <td>1.001141</td>\n      <td>0.800762</td>\n      <td>0.799231</td>\n      <td>0.931453</td>\n      <td>0.991996</td>\n      <td>0.911805</td>\n    </tr>\n    <tr>\n      <th>2</th>\n      <td>0</td>\n      <td>D</td>\n      <td>L</td>\n      <td>R</td>\n      <td>6</td>\n      <td>1306</td>\n      <td>11.4480</td>\n      <td>187.45</td>\n      <td>35.84</td>\n      <td>4265.0</td>\n      <td>...</td>\n      <td>22.4</td>\n      <td>28.9</td>\n      <td>22.4</td>\n      <td>0.974444</td>\n      <td>0.974443</td>\n      <td>0.886546</td>\n      <td>0.906484</td>\n      <td>1.158515</td>\n      <td>0.985806</td>\n      <td>0.911805</td>\n    </tr>\n    <tr>\n      <th>3</th>\n      <td>0</td>\n      <td>D</td>\n      <td>L</td>\n      <td>R</td>\n      <td>6</td>\n      <td>1302</td>\n      <td>15.1368</td>\n      <td>148.33</td>\n      <td>37.53</td>\n      <td>4466.0</td>\n      <td>...</td>\n      <td>22.4</td>\n      <td>28.9</td>\n      <td>22.4</td>\n      <td>1.015319</td>\n      <td>1.015344</td>\n      <td>1.168344</td>\n      <td>0.992329</td>\n      <td>0.922866</td>\n      <td>0.973863</td>\n      <td>0.911805</td>\n    </tr>\n    <tr>\n      <th>4</th>\n      <td>0</td>\n      <td>D</td>\n      <td>L</td>\n      <td>R</td>\n      <td>6</td>\n      <td>1304</td>\n      <td>14.3736</td>\n      <td>179.30</td>\n      <td>36.31</td>\n      <td>4321.0</td>\n      <td>...</td>\n      <td>22.4</td>\n      <td>28.9</td>\n      <td>22.4</td>\n      <td>0.983099</td>\n      <td>0.983085</td>\n      <td>1.094500</td>\n      <td>0.902220</td>\n      <td>1.132530</td>\n      <td>0.980886</td>\n      <td>0.911805</td>\n    </tr>\n  </tbody>\n</table>\n<p>5 rows \u00d7 49 columns</p>\n</div>",
                        "text/plain": "   FAILURE_TARGET REGION_CLUSTER MAINTENANCE_VENDOR MANUFACTURER  WELL_GROUP  \\\n0               0              D                  L            R           6   \n1               0              D                  L            R           6   \n2               0              D                  L            R           6   \n3               0              D                  L            R           6   \n4               0              D                  L            R           6   \n\n   AGE_OF_EQUIPMENT      S15     S17    S13      S5  ...  S19_median  S19_max  \\\n0              1308  15.5184  188.10  36.29  4318.0  ...        22.4     28.9   \n1              1307  10.3032  149.24  36.78  4377.0  ...        22.4     28.9   \n2              1306  11.4480  187.45  35.84  4265.0  ...        22.4     28.9   \n3              1302  15.1368  148.33  37.53  4466.0  ...        22.4     28.9   \n4              1304  14.3736  179.30  36.31  4321.0  ...        22.4     28.9   \n\n   S19_min    S5_chg   S13_chg   S15_chg   S16_chg   S17_chg   S18_chg  \\\n0     22.4  0.989654  0.989779  1.208706  0.913224  1.150727  0.995684   \n1     22.4  1.001165  1.001141  0.800762  0.799231  0.931453  0.991996   \n2     22.4  0.974444  0.974443  0.886546  0.906484  1.158515  0.985806   \n3     22.4  1.015319  1.015344  1.168344  0.992329  0.922866  0.973863   \n4     22.4  0.983099  0.983085  1.094500  0.902220  1.132530  0.980886   \n\n    S19_chg  \n0  0.911805  \n1  0.911805  \n2  0.911805  \n3  0.911805  \n4  0.911805  \n\n[5 rows x 49 columns]"
                    },
                    "execution_count": 82,
                    "metadata": {},
                    "output_type": "execute_result"
                }
            ],
            "source": "df_balanced = pd.concat([df_y, df_x], axis=1)\ndf_balanced.head()"
        },
        {
            "cell_type": "markdown",
            "metadata": {},
            "source": "### 5.0 More data transformation and feature engineering <a></a>"
        },
        {
            "cell_type": "markdown",
            "metadata": {},
            "source": "Convert the categorical variables into binary dummy variables. We need to do this because the XGBT model (below) doesn't like categorical fields."
        },
        {
            "cell_type": "code",
            "execution_count": 83,
            "metadata": {
                "id": "2af98f59-a15a-4895-898f-f25c3e373845"
            },
            "outputs": [],
            "source": "df_dv = pd.get_dummies(df_balanced['REGION_CLUSTER'])\n\ndf_dv=df_dv.rename(columns={\"A\": \"CLUSTER_A\",\"B\":\"CLUSTER_B\",\"C\":\"CLUSTER_C\",\"D\":\"CLUSTER_D\",\"E\":\"CLUSTER_E\",\"F\":\"CLUSTER_F\",\"G\":\"CLUSTER_G\",\"H\":\"CLUSTER_H\"})\n\n\ndf_balanced= pd.concat([df_balanced, df_dv], axis=1)\n\n\ndf_dv = pd.get_dummies(df_balanced['MAINTENANCE_VENDOR'])\n\ndf_dv=df_dv.rename(columns={\"I\": \"MV_I\",\"J\":\"MV_J\",\"K\":\"MV_K\",\"L\":\"MV_L\",\"M\":\"MV_M\",\"N\":\"MV_N\",\"O\":\"MV_O\",\"P\":\"MV_P\"})\n\n\ndf_balanced = pd.concat([df_balanced, df_dv], axis=1)\n\n\n\ndf_dv = pd.get_dummies(df_balanced['MANUFACTURER'])\n\ndf_dv=df_dv.rename(columns={\"Q\": \"MN_Q\",\"R\":\"MN_R\",\"S\":\"MN_S\",\"T\":\"MN_T\",\"U\":\"MN_U\",\"V\":\"MN_V\",\"W\":\"MN_W\",\"X\":\"MN_X\",\"Y\":\"MN_Y\",\"Z\":\"MN_Z\"})\n\n\ndf_balanced = pd.concat([df_balanced, df_dv], axis=1)\n\n\ndf_dv = pd.get_dummies(df_balanced['WELL_GROUP'])\n\ndf_dv=df_dv.rename(columns={1: \"WG_1\",2:\"WG_2\",3:\"WG_3\",4:\"WG_4\",5:\"WG_5\",6:\"WG_6\",7:\"WG_7\",8:\"WG_8\"})\n\n\ndf_balanced = pd.concat([df_balanced, df_dv], axis=1)\n"
        },
        {
            "cell_type": "markdown",
            "metadata": {},
            "source": "Execute the same transformation on the train_test data set."
        },
        {
            "cell_type": "code",
            "execution_count": 84,
            "metadata": {
                "id": "613487b2-0f8a-4c22-9224-e72f6f543f06"
            },
            "outputs": [],
            "source": "df_dv = pd.get_dummies(df_train_test['REGION_CLUSTER'])\n\ndf_dv=df_dv.rename(columns={\"A\": \"CLUSTER_A\",\"B\":\"CLUSTER_B\",\"C\":\"CLUSTER_C\",\"D\":\"CLUSTER_D\",\"E\":\"CLUSTER_E\",\"F\":\"CLUSTER_F\",\"G\":\"CLUSTER_G\",\"H\":\"CLUSTER_H\"})\n\n\ndf_train_test= pd.concat([df_train_test, df_dv], axis=1)\n\n\ndf_dv = pd.get_dummies(df_train_test['MAINTENANCE_VENDOR'])\n\ndf_dv=df_dv.rename(columns={\"I\": \"MV_I\",\"J\":\"MV_J\",\"K\":\"MV_K\",\"L\":\"MV_L\",\"M\":\"MV_M\",\"N\":\"MV_N\",\"O\":\"MV_O\",\"P\":\"MV_P\"})\n\n\ndf_train_test = pd.concat([df_train_test, df_dv], axis=1)\n\n\n\ndf_dv = pd.get_dummies(df_train_test['MANUFACTURER'])\n\ndf_dv=df_dv.rename(columns={\"Q\": \"MN_Q\",\"R\":\"MN_R\",\"S\":\"MN_S\",\"T\":\"MN_T\",\"U\":\"MN_U\",\"V\":\"MN_V\",\"W\":\"MN_W\",\"X\":\"MN_X\",\"Y\":\"MN_Y\",\"Z\":\"MN_Z\"})\n\n\ndf_train_test = pd.concat([df_train_test, df_dv], axis=1)\n\n\ndf_dv = pd.get_dummies(df_train_test['WELL_GROUP'])\n\ndf_dv=df_dv.rename(columns={1: \"WG_1\",2:\"WG_2\",3:\"WG_3\",4:\"WG_4\",5:\"WG_5\",6:\"WG_6\",7:\"WG_7\",8:\"WG_8\"})\n\n\ndf_train_test = pd.concat([df_train_test, df_dv], axis=1)\n\n"
        },
        {
            "cell_type": "markdown",
            "metadata": {},
            "source": "And, also on the df_total data set."
        },
        {
            "cell_type": "code",
            "execution_count": 85,
            "metadata": {
                "id": "9d6f8f3d-c471-4a66-a5fe-20bc90f782d9"
            },
            "outputs": [],
            "source": "df_dv = pd.get_dummies(df_total['REGION_CLUSTER'])\n\ndf_dv=df_dv.rename(columns={\"A\": \"CLUSTER_A\",\"B\":\"CLUSTER_B\",\"C\":\"CLUSTER_C\",\"D\":\"CLUSTER_D\",\"E\":\"CLUSTER_E\",\"F\":\"CLUSTER_F\",\"G\":\"CLUSTER_G\",\"H\":\"CLUSTER_H\"})\n\n\ndf_total= pd.concat([df_total, df_dv], axis=1)\n\n\ndf_dv = pd.get_dummies(df_total['MAINTENANCE_VENDOR'])\n\ndf_dv=df_dv.rename(columns={\"I\": \"MV_I\",\"J\":\"MV_J\",\"K\":\"MV_K\",\"L\":\"MV_L\",\"M\":\"MV_M\",\"N\":\"MV_N\",\"O\":\"MV_O\",\"P\":\"MV_P\"})\n\n\ndf_total = pd.concat([df_total, df_dv], axis=1)\n\n\n\ndf_dv = pd.get_dummies(df_total['MANUFACTURER'])\n\ndf_dv=df_dv.rename(columns={\"Q\": \"MN_Q\",\"R\":\"MN_R\",\"S\":\"MN_S\",\"T\":\"MN_T\",\"U\":\"MN_U\",\"V\":\"MN_V\",\"W\":\"MN_W\",\"X\":\"MN_X\",\"Y\":\"MN_Y\",\"Z\":\"MN_Z\"})\n\n\ndf_total = pd.concat([df_total, df_dv], axis=1)\n\n\ndf_dv = pd.get_dummies(df_total['WELL_GROUP'])\n\ndf_dv=df_dv.rename(columns={1: \"WG_1\",2:\"WG_2\",3:\"WG_3\",4:\"WG_4\",5:\"WG_5\",6:\"WG_6\",7:\"WG_7\",8:\"WG_8\"})\n\n\ndf_total = pd.concat([df_total, df_dv], axis=1)"
        },
        {
            "cell_type": "markdown",
            "metadata": {},
            "source": "### 6.0 Build the model on the balanced training data set <a></a>"
        },
        {
            "cell_type": "code",
            "execution_count": 86,
            "metadata": {
                "id": "61cb6c0a-d00f-4da0-81b9-80960e8d6b04"
            },
            "outputs": [],
            "source": "# Remove the newly redundant categorical variables.  This are now represented by dummy variables.\ndf_balanced=df_balanced.drop(columns=['REGION_CLUSTER','MAINTENANCE_VENDOR','MANUFACTURER','WELL_GROUP'])"
        },
        {
            "cell_type": "markdown",
            "metadata": {},
            "source": "In the balanced data set, separate the dependent and independent variables to feed the model development process."
        },
        {
            "cell_type": "code",
            "execution_count": 87,
            "metadata": {
                "id": "b3f182b4-b5be-4c56-94eb-9920efba1b3f"
            },
            "outputs": [],
            "source": "\nfeatures = [x for x in df_balanced.columns if x not in ['FAILURE_TARGET']]  \ndependent=pd.DataFrame(df_balanced['FAILURE_TARGET'])\n\nindependent=df_balanced.drop(columns=['FAILURE_TARGET'])"
        },
        {
            "cell_type": "code",
            "execution_count": 88,
            "metadata": {
                "id": "34af2385-80d7-4f18-81fd-c668a4b4186f"
            },
            "outputs": [],
            "source": "#make sure everything is numeric for simplicity -- this caused issues with some operating environments, so it is commented out.\n#independent = independent.apply(pd.to_numeric) \n#df_balanced = df_balanced.apply(pd.to_numeric)"
        },
        {
            "cell_type": "markdown",
            "metadata": {},
            "source": "Define model specs."
        },
        {
            "cell_type": "code",
            "execution_count": 89,
            "metadata": {
                "id": "a4f81887-9e5b-4711-b7a2-f83663b0b3b2"
            },
            "outputs": [
                {
                    "data": {
                        "text/html": "<div>\n<style scoped>\n    .dataframe tbody tr th:only-of-type {\n        vertical-align: middle;\n    }\n\n    .dataframe tbody tr th {\n        vertical-align: top;\n    }\n\n    .dataframe thead th {\n        text-align: right;\n    }\n</style>\n<table border=\"1\" class=\"dataframe\">\n  <thead>\n    <tr style=\"text-align: right;\">\n      <th></th>\n      <th>FAILURE_TARGET</th>\n      <th>AGE_OF_EQUIPMENT</th>\n      <th>S15</th>\n      <th>S17</th>\n      <th>S13</th>\n      <th>S5</th>\n      <th>S16</th>\n      <th>S19</th>\n      <th>S18</th>\n      <th>S8</th>\n      <th>...</th>\n      <th>MN_Y</th>\n      <th>MN_Z</th>\n      <th>WG_1</th>\n      <th>WG_2</th>\n      <th>WG_3</th>\n      <th>WG_4</th>\n      <th>WG_5</th>\n      <th>WG_6</th>\n      <th>WG_7</th>\n      <th>WG_8</th>\n    </tr>\n  </thead>\n  <tbody>\n    <tr>\n      <th>0</th>\n      <td>0</td>\n      <td>1308</td>\n      <td>15.5184</td>\n      <td>188.1</td>\n      <td>36.29</td>\n      <td>4318.0</td>\n      <td>8.0073</td>\n      <td>22.4</td>\n      <td>143.9</td>\n      <td>222.64</td>\n      <td>...</td>\n      <td>False</td>\n      <td>False</td>\n      <td>False</td>\n      <td>False</td>\n      <td>False</td>\n      <td>False</td>\n      <td>False</td>\n      <td>True</td>\n      <td>False</td>\n      <td>False</td>\n    </tr>\n  </tbody>\n</table>\n<p>1 rows \u00d7 79 columns</p>\n</div>",
                        "text/plain": "   FAILURE_TARGET  AGE_OF_EQUIPMENT      S15    S17    S13      S5     S16  \\\n0               0              1308  15.5184  188.1  36.29  4318.0  8.0073   \n\n    S19    S18      S8  ...   MN_Y   MN_Z   WG_1   WG_2   WG_3   WG_4   WG_5  \\\n0  22.4  143.9  222.64  ...  False  False  False  False  False  False  False   \n\n   WG_6   WG_7   WG_8  \n0  True  False  False  \n\n[1 rows x 79 columns]"
                    },
                    "execution_count": 89,
                    "metadata": {},
                    "output_type": "execute_result"
                }
            ],
            "source": "df_balanced.head(1)"
        },
        {
            "cell_type": "code",
            "execution_count": 90,
            "metadata": {
                "id": "3a5b8fa9-febf-471e-a1e1-d5dc3a5637c0"
            },
            "outputs": [],
            "source": "import matplotlib.pylab as plt\n%matplotlib inline\n\ndef evaluate_model(alg, train, target, predictors,  early_stopping_rounds=1):\n    \n   \n    #Fit the algorithm on the data\n    alg.fit(train[predictors], target['FAILURE_TARGET'], eval_metric='error')\n        \n    #Predict training set:\n    dtrain_predictions = alg.predict(train[predictors])\n    dtrain_predprob = alg.predict_proba(train[predictors])[:,1]\n    \n    feat_imp = pd.Series(alg.get_booster().get_fscore()).sort_values(ascending=False) \n    feat_imp.plot(kind='bar', title='Feature Importance', color='g') \n    plt.ylabel('Feature Importance Score')\n        \n    #Print model report:\n    print(\"\\nModel Report\")\n    print(\"Accuracy : %.4g\" % metrics.accuracy_score(target['FAILURE_TARGET'].values, dtrain_predictions))\n    print(\"AUC Score (Balanced): %f\" % metrics.roc_auc_score(target['FAILURE_TARGET'], dtrain_predprob))"
        },
        {
            "cell_type": "markdown",
            "metadata": {},
            "source": "Define the parameter values for a xgbt model"
        },
        {
            "cell_type": "code",
            "execution_count": 92,
            "metadata": {
                "id": "8e5675af-6050-4315-a5b7-2ad48d243d47"
            },
            "outputs": [],
            "source": "estimator_vals=160\nlr_vals = 0.8\nmd_vals = 12\nmcw_vals = 0.5\ngamma_vals =.1\nsubsample_vals = .5\nc_bt_vals = 1\nreg_lambda_vals = 1\nreg_alpha_vals = 1"
        },
        {
            "cell_type": "markdown",
            "metadata": {},
            "source": "Define the model"
        },
        {
            "cell_type": "code",
            "execution_count": 93,
            "metadata": {
                "id": "0d5bb2fa-c428-45ef-9dfd-ff02d9a57fb8"
            },
            "outputs": [],
            "source": "xgb0 = XGBClassifier(objective = 'binary:logistic',use_label_encoder=False,learning_rate = lr_vals,\nn_estimators=estimator_vals,max_depth=md_vals,min_child_weight=mcw_vals,\ngamma=gamma_vals,subsample=subsample_vals,colsample_bytree=c_bt_vals,\nreg_lambda=reg_lambda_vals,reg_alpha=reg_alpha_vals);\n"
        },
        {
            "cell_type": "markdown",
            "metadata": {},
            "source": "Build the model on the balanced training data set."
        },
        {
            "cell_type": "code",
            "execution_count": 94,
            "metadata": {
                "id": "1c59962d-ecc1-47fc-979b-18e2127532a2"
            },
            "outputs": [
                {
                    "name": "stderr",
                    "output_type": "stream",
                    "text": "/opt/conda/envs/Python-RT24.1/lib/python3.11/site-packages/xgboost/sklearn.py:889: UserWarning: `eval_metric` in `fit` method is deprecated for better compatibility with scikit-learn, use `eval_metric` in constructor or`set_params` instead.\n  warnings.warn(\n"
                },
                {
                    "name": "stdout",
                    "output_type": "stream",
                    "text": "\nModel Report\nAccuracy : 1\nAUC Score (Balanced): 1.000000\n"
                },
                {
                    "data": {
                        "image/png": "[encoded data removed]",
                        "text/plain": "<Figure size 640x480 with 1 Axes>"
                    },
                    "metadata": {},
                    "output_type": "display_data"
                }
            ],
            "source": "evaluate_model(xgb0, independent, dependent,features) "
        },
        {
            "cell_type": "markdown",
            "metadata": {},
            "source": "Well, the model is perfect! So we can go home and celebrate? \n\n\nUmmm, ..., not so fast. Let's see how the model performs on the original non-balanced training data and the hold-out testing data."
        },
        {
            "cell_type": "markdown",
            "metadata": {},
            "source": "### 7.0 Evaluate the Model <a></a>"
        },
        {
            "cell_type": "markdown",
            "metadata": {},
            "source": "The most confusing element of PM problems is building a realistic model assessment.  Because of timing and the small number of failures, understanding how the model will work once deployed in production is challenging. \n\nThere are standard metrics for evaluating models like accuracy, AUC, and a confusion matrix.  In the sections below, I will show how, given the transformations we used to build our model and the complexity of the problem, these metrics do not give us a realistic view of model performance when deployed into production.  These standard metrics are helpful but are not sufficient.\n"
        },
        {
            "cell_type": "markdown",
            "metadata": {},
            "source": "#### 7.1 Evaluate the model using an AUC and accuracy metrics.<a></a>"
        },
        {
            "cell_type": "markdown",
            "metadata": {},
            "source": "We've already established that the model predicts the balanced training data with 100 percent accuracy. In this section, we will gauge the model's accuracy using unbalanced training and testing data. The first step is to split the original data frame into two\u2014one data frame for testing and a second for training."
        },
        {
            "cell_type": "code",
            "execution_count": 95,
            "metadata": {
                "id": "fe81fc59-76a9-410d-8eff-fc9f75284388"
            },
            "outputs": [],
            "source": "\ndf_testing=df_train_test[df_train_test['MODELING_GROUP'] == 'TESTING'].copy()\ndf_training=df_train_test[df_train_test['MODELING_GROUP'] != 'TESTING'].copy()"
        },
        {
            "cell_type": "markdown",
            "metadata": {},
            "source": "Now, we will evaluate the unbalanced training data."
        },
        {
            "cell_type": "code",
            "execution_count": 98,
            "metadata": {
                "id": "12783055-fb56-45bf-b485-5884670fbf50"
            },
            "outputs": [
                {
                    "name": "stdout",
                    "output_type": "stream",
                    "text": "Accuracy : 1\nAUC Score (Train): 1.000000\n"
                }
            ],
            "source": "\n\ndf_training['P_FAIL']= xgb0.predict_proba(df_training[features])[:,1];\ndf_training['Y_FAIL'] = np.where(((df_training.P_FAIL <= .50)), 0, 1)\n#Print model report:\nprint(\"Accuracy : %.4g\" % metrics.accuracy_score(df_training['FAILURE_TARGET'].values, df_training['Y_FAIL']))\nprint(\"AUC Score (Train): %f\" % metrics.roc_auc_score(df_training['FAILURE_TARGET'], df_training['P_FAIL']))"
        },
        {
            "cell_type": "markdown",
            "metadata": {},
            "source": "Yeah Baby! Still perfect!  "
        },
        {
            "cell_type": "markdown",
            "metadata": {},
            "source": "Ok, don't get too excited.  Let's take a look at the hold-out testing data set.  Let's look at the testing data set with a .50 cut-off."
        },
        {
            "cell_type": "code",
            "execution_count": 99,
            "metadata": {
                "id": "a4c87eee-b4ef-4b05-a600-ceaedd3ffcf4"
            },
            "outputs": [
                {
                    "name": "stdout",
                    "output_type": "stream",
                    "text": "Accuracy : 0.954\nAUC Score (Train): 0.505015\n"
                }
            ],
            "source": "df_testing['P_FAIL']= xgb0.predict_proba(df_testing[features])[:,1];\ndf_testing['Y_FAIL'] = np.where(((df_testing.P_FAIL <= .50)), 0, 1)\n#Print model report:\nprint(\"Accuracy : %.4g\" % metrics.accuracy_score(df_testing['FAILURE_TARGET'].values, df_testing['Y_FAIL']))\nprint(\"AUC Score (Train): %f\" % metrics.roc_auc_score(df_testing['FAILURE_TARGET'], df_testing['P_FAIL']))"
        },
        {
            "cell_type": "markdown",
            "metadata": {},
            "source": "Before we go any further, let's take a step back and consider what we have done.  Our model validates with an accuracy of .9537.  \n\nIs that good or bad?  \n\nAt this point, I honestly have no idea.  What does this say about how this model will perform in production?  How much will this model improve operations over \"Business as Usual\"? \n\nWe can not answer the questions above with an accuracy metric.  It is not possible.  To fully grasp how a PM model will perform, you must put it into the context of its deployment.  "
        },
        {
            "cell_type": "markdown",
            "metadata": {},
            "source": "#### 7.2 Evaluate the model using a simple confusion matrix.<a></a>"
        },
        {
            "cell_type": "markdown",
            "metadata": {},
            "source": "We've established that the model perfectly fits the training data, so we won't waste time evaluating the training data."
        },
        {
            "cell_type": "markdown",
            "metadata": {},
            "source": "Let's take a look at the testing data.  First, we will cross-tabulate predicted failure with the original failure variable, 'EQUIPMENT_FAILURE\".  Note this is the initial failure variable.  The one with only 421 values.  The other side of the confusion matrix is the predicted binary variable \"Y_FAIL.\"  Remember, we used a 0.50 cut-off to define this variable."
        },
        {
            "cell_type": "code",
            "execution_count": 100,
            "metadata": {
                "id": "af9e77a3-5a6a-4e15-9dd4-092480d7060e"
            },
            "outputs": [
                {
                    "name": "stdout",
                    "output_type": "stream",
                    "text": "EQUIPMENT_FAILURE       0    1\nY_FAIL                        \n0                  107841  147\n1                     929    2\n"
                }
            ],
            "source": "\nprint(pd.crosstab(df_testing.Y_FAIL, df_testing.EQUIPMENT_FAILURE, dropna=False))"
        },
        {
            "cell_type": "markdown",
            "metadata": {},
            "source": "The 'EQUIPMENT_FAILURE' variable identifies a failure on the day it occurs. Let's say that failure occurs on Friday, and we have failure signals on Monday, Tuesday, Wednesday, and Thursday, but not on Friday. I would argue that the failure on Friday is a True Positive, given that there were four failure signals in the days leading up to the failure. However, the confusion matrix above counts Monday, Tuesday, Wednesday, and Thursday as false positives and Friday as a false negative. This cross-tab alone doesn't give us a realistic view of how the model will perform in production.\n\nNow, we will create a confusion matrix using 'FAILURE_TARGET.' This variable is the predicted binary variable where the 28 days leading up to a failure are flagged as failures. "
        },
        {
            "cell_type": "code",
            "execution_count": 101,
            "metadata": {
                "id": "ad91dad8-dff0-4d10-aeaa-9c9e62c915ae"
            },
            "outputs": [
                {
                    "name": "stdout",
                    "output_type": "stream",
                    "text": "FAILURE_TARGET       0     1\nY_FAIL                      \n0               103874  4114\n1                  894    37\n"
                }
            ],
            "source": "print(pd.crosstab(df_testing.Y_FAIL, df_testing.FAILURE_TARGET, dropna=False))"
        },
        {
            "cell_type": "markdown",
            "metadata": {},
            "source": "With 'FAILURE_TARGET,' we have 48 True Positives, 4,103 False Negatives, 940 False Positives, and 103,328 True Negatives.  \n\nDoes this work?  \n\nNot really, huh?  Think about it.  \n\nEach failure is represented 28 different times.  If a machine fails on Friday the 28th, the previous twenty-seven days of the month are also flagged as a failure.  This clearly won't work, will it?\n\nThe example above clearly does not reflect what we can expect when we push this model into production.  To get a realistic evaluation of the model, we must have practical definitions of false positives, false negatives, true negatives, and false negatives.     "
        },
        {
            "cell_type": "markdown",
            "metadata": {},
            "source": "#### 7.3 Using Heuristics to Define a False Positive, True Positive, False Negative, and True Negative.<a></a>"
        },
        {
            "cell_type": "markdown",
            "metadata": {},
            "source": "We first need to define a few parameters to evaluate our machine learning model accurately.  I usually fine-tune these parameters with the testing and training data sets, then confirm the accuracy with the validation data set.\n\nThe first parameter is the Forecast Window.  \n\nThe Forecast Window is the length of time a failure signal projects into the future.  \n\nFor example, if there is a failure signal on June 1st, how long does that signal last?  \n\nDoes it mean the machine will break in the next second, minute, hour, day, or month? \n\nNote that the forecast window length depends on the problem's context.  If a machine runs to failure in 10 years, the forecast window will be relatively long, perhaps as long as six or nine months.  If a machine runs to failure in 1 day, the forecast window will be much shorter, maybe an hour or a few minutes.  The length of the forecast window must be helpful to the problem.  For example, a twenty-eight-day forecast window for a machine that runs to failure in thirty days is of little value.  \n\nIn our current use case, the machine runs to failure in four to six years, so a ninety-day forecast window is reasonable.\n\nWe also need to define a cut-off value.  In this first example, we will use a cut-off value of .50.  The cut-off value determines if a prediction is a failure or a non-failure.  In the current example, if the probability of failure is less than .5, it is a predicted non-failure.  If the likelihood of failure is greater than .5, it is an expected failure."
        },
        {
            "cell_type": "code",
            "execution_count": 102,
            "metadata": {
                "id": "54548555-2498-4cdb-83a4-23ef60991cbf"
            },
            "outputs": [],
            "source": "forecast_window=90\ncutoff=0.50\n"
        },
        {
            "cell_type": "markdown",
            "metadata": {},
            "source": "Create a probability of failure for the df_train_test data set.  Note this has both the unbalanced training data and the unbalanced testing data.  Once the probability is defined, create a \"Fail/No Fail\" binary variable using the cut-off value."
        },
        {
            "cell_type": "code",
            "execution_count": 103,
            "metadata": {
                "id": "ae86228d-2a51-4d38-9099-848abfafc03a"
            },
            "outputs": [],
            "source": "df=df_train_test"
        },
        {
            "cell_type": "code",
            "execution_count": 104,
            "metadata": {
                "id": "ef7a44c1-be78-469a-b0a6-f20f4545a23a"
            },
            "outputs": [],
            "source": "df['P_FAIL']= xgb0.predict_proba(df[features])[:,1];\ndf['Y_FAIL'] = np.where(((df.P_FAIL <= cutoff)), 0, 1)"
        },
        {
            "cell_type": "markdown",
            "metadata": {},
            "source": "To effectively evaluate the model, we must do three things.  One, we need to remove redundant failure signals.  That is, ensure at least 90 days (the forecast window) exist between each failure signal in the data.  Two, we must ensure failure signals from a specific machine align with failures from the same machine.  Three, we must understand the time between signals and failures."
        },
        {
            "cell_type": "markdown",
            "metadata": {},
            "source": "Note there are many ways to do what I am doing in the next few steps.  It is straightforward data processing.  I'm not saying this is the best way.  I am saying it works."
        },
        {
            "cell_type": "markdown",
            "metadata": {},
            "source": "##### 7.31 Eliminate redundant failure signals<a></a>"
        },
        {
            "cell_type": "markdown",
            "metadata": {},
            "source": "Based on context, there can only be one failure every 90 days. If multiple failure signals occur in a ninety-day window, these signals will be aggregated and associated with the first signal.\n\nFor example, assume you have a signal on Monday, Tuesday, Wednesday, and Thursday. Here, we have a single failure signal measured over four days, not four different signals measured over four different days. The latter situation really doesn\u2019t make sense. The problem on Tuesday, Wednesday and Thursday are not indpendent from the one on Monday. The four are connected. They have to be and even if they are not, you should have checked and repaired the machine after the first signal.\n\nGiven this, to get an accurate model assessment, we must consolidate the four signals and associate them with the first day in the series of signals (Monday). In other words, Tuesday, Wednesday, and Thursday signals are redundant and subject to removal.\nAgain, a signal of failure is good for 90 days (forecast window), so a signal that occurs inside the 90-day window of an earlier signal is not, by definition, NOT a separate signal of failure.\n\nLet\u2019s take a step back and look at this pragmatically. If you get a failure signal today, you will take action and check the machine immediately, right? Isn\u2019t the whole point here? We only have consecutive signals in the historical data because the model does not exist yet. In a real-world situation, successive failure signals should not occur. A signal will prompt the business to check the machine. At that point, the signal becomes either a false positive or a true positive, end of the story.\n"
        },
        {
            "cell_type": "markdown",
            "metadata": {},
            "source": "Sort the data by id and date."
        },
        {
            "cell_type": "code",
            "execution_count": null,
            "metadata": {
                "id": "2080a6af-805b-408e-aae0-ece935b72fc8"
            },
            "outputs": [],
            "source": "\nxx=df\nxx=xx.sort_values(by=['ID','DATE'], ascending=[True, True])"
        },
        {
            "cell_type": "markdown",
            "metadata": {},
            "source": "Create a unique list of machines"
        },
        {
            "cell_type": "code",
            "execution_count": null,
            "metadata": {
                "id": "18615dd0-8ef8-436b-a85f-c047ccdec5d6"
            },
            "outputs": [],
            "source": "\naa=xx\n\npd_id=aa.drop_duplicates(subset='ID')\npd_id=pd_id[['ID']]\npd_id.shape"
        },
        {
            "cell_type": "markdown",
            "metadata": {},
            "source": "Label each machine with a sequential number.  We need the id to be sequential for use in a later step."
        },
        {
            "cell_type": "code",
            "execution_count": null,
            "metadata": {
                "id": "c730ef3e-7186-49bf-82e7-be24cac6ebc8"
            },
            "outputs": [],
            "source": "\npd_id=pd_id.reset_index(drop=True)\npd_id=pd_id.reset_index(drop=False)\npd_id=pd_id.rename(columns={\"index\": \"SCOOBYDOO\"})\npd_id['SCOOBYDOO']=pd_id['SCOOBYDOO']+1\npd_id.head()"
        },
        {
            "cell_type": "markdown",
            "metadata": {},
            "source": "Grab the max number of machines.  We will use this in a loop in a later step."
        },
        {
            "cell_type": "code",
            "execution_count": null,
            "metadata": {
                "id": "ab46dd86-b3d6-4572-a062-df511b1596f3"
            },
            "outputs": [],
            "source": "\n\ncolumn = pd_id[\"SCOOBYDOO\"]\nmax_value = column.max()+1\nmax_value"
        },
        {
            "cell_type": "markdown",
            "metadata": {},
            "source": "Append the sequential number to the main file.  Now each machine a sequential id."
        },
        {
            "cell_type": "code",
            "execution_count": null,
            "metadata": {
                "id": "af831f43-41fd-48b5-8f42-8339d79e9a96"
            },
            "outputs": [],
            "source": "\nxx=xx.sort_values(by=['ID'], ascending=[True])\npd_id=pd_id.sort_values(by=['ID'], ascending=[True])\nxx =xx.merge(pd_id, on=['ID'], how='inner')\nxx.head()"
        },
        {
            "cell_type": "markdown",
            "metadata": {},
            "source": "Sort the data by ID and Date and reset the index of the dataframe so it matches the sort."
        },
        {
            "cell_type": "code",
            "execution_count": null,
            "metadata": {
                "id": "03e39e02-12ac-408b-82ed-5e1ef6f5f4eb"
            },
            "outputs": [],
            "source": "\nxx=xx.sort_values(by=['ID','DATE'], ascending=[True,True])\n\n#reset index\nxx=xx.reset_index(drop=True)"
        },
        {
            "cell_type": "markdown",
            "metadata": {},
            "source": "The next few steps assign a new failure indicator that incorporates the forecast window.  Note that this calculation occurs at a machine level.  Doing this keeps a signal from one machine affecting another machine. \n\n This loop takes a while to run.\n \n The output is a new failure indicator called \"Y_FAILZ.\"  This failure signal incorporates the forecast window and will not occur more than once every 90 days."
        },
        {
            "cell_type": "code",
            "execution_count": null,
            "metadata": {
                "id": "36373ed1-8767-47e9-9b3d-b5841ede8a83"
            },
            "outputs": [],
            "source": "#create a null dataframe for the next step\ndf_fred=xx\ndf_fred['Y_FAIL_sumxx']=0\ndf_fred=df_fred[df_fred['SCOOBYDOO'] == max_value+1]\ndf_fred.shape\n\n\n\n#sum the number of signals occuring over the last 90 days for each machine individually\n\nfor x in range(max_value):\n        dffx=xx[xx['SCOOBYDOO'] ==x]\n        dff=dffx.copy()\n        dff['Y_FAIL_sumxx'] =(dff['Y_FAIL'].rolling(min_periods=1, window=(forecast_window)).sum())\n        df_fred= pd.concat([df_fred,dff])\n        \nxx=df_fred\n\n# if a signal has occured in the last 90 days, the signal is 0.\nxx['Y_FAILZ']=np.where((xx.Y_FAIL_sumxx>1), 0, xx.Y_FAIL)\n\n\ndf=xx"
        },
        {
            "cell_type": "markdown",
            "metadata": {},
            "source": "##### 7.32 Identify the machine id for each signal.  Identify the date of the failure signal.<a></a>"
        },
        {
            "cell_type": "markdown",
            "metadata": {},
            "source": "To determine if a signal is accurate, we need to collect two more pieces of information.  \n\nThe first is the date of the failure signal. We'll need to compare the failure date to the failure signal date to ensure that the signal is within the forecast window.\n\nRemember that we are working with a panel data set. We have multiple machines measured over time. We have to align the signals and failures by machine. In other words, we don't want a signal from machine 1 associated with a failure in machine 2. The signals from machine 1 are meant to predict failures in machine 1, not machine 2.   If we have a machine id for each failure signal, we can ensure that it aligns with the machine id of the failure.\n"
        },
        {
            "cell_type": "markdown",
            "metadata": {},
            "source": "Sort the data by id and date."
        },
        {
            "cell_type": "code",
            "execution_count": null,
            "metadata": {
                "id": "83f54da8-0a4e-453a-9852-18d0c619cf92"
            },
            "outputs": [],
            "source": "\nxx=df\nxx=xx.sort_values(by=['ID','DATE'], ascending=[True, True])\n"
        },
        {
            "cell_type": "markdown",
            "metadata": {},
            "source": "Create signal id with the cumsum function."
        },
        {
            "cell_type": "code",
            "execution_count": null,
            "metadata": {
                "id": "0a0025ed-2531-430e-9cf2-c6bd7606a10e"
            },
            "outputs": [],
            "source": "\nxx['SIGNAL_ID'] = xx['Y_FAILZ'].cumsum()\n\n"
        },
        {
            "cell_type": "markdown",
            "metadata": {},
            "source": "Now we will pull the records with a signal into a different data frame. \n\nHere we will create a new field that identifies the date of each signal (SIGNAL_DATE). \n\nAlso, we will identify the machine ID Associated with each signal (ID_OF_SIGNAL)\n\n"
        },
        {
            "cell_type": "code",
            "execution_count": null,
            "metadata": {
                "id": "014908e9-98b7-4136-832a-68636e87e6e2"
            },
            "outputs": [],
            "source": "df_signals=xx[xx['Y_FAILZ'] == 1]\ndf_signal_date=df_signals[['SIGNAL_ID','DATE','ID']]\ndf_signal_date=df_signal_date.rename(index=str, columns={\"DATE\": \"SIGNAL_DATE\"})\ndf_signal_date=df_signal_date.rename(index=str, columns={\"ID\": \"ID_OF_SIGNAL\"})"
        },
        {
            "cell_type": "markdown",
            "metadata": {},
            "source": "We have a total of 282 signals.  Now each has a unique id and an data associated with the signal."
        },
        {
            "cell_type": "code",
            "execution_count": null,
            "metadata": {
                "id": "c0e9e1a9-0237-48de-9e6b-0b26125a88e3",
                "scrolled": true
            },
            "outputs": [],
            "source": "df_signal_date.shape"
        },
        {
            "cell_type": "markdown",
            "metadata": {},
            "source": "Append ID_OF_SIGNAL and SIGNAL_DATE to the original Dataframe base on the SIGNAL_ID.  "
        },
        {
            "cell_type": "code",
            "execution_count": null,
            "metadata": {
                "id": "149289a4-ae8f-4386-a367-b87a2b8bd2b8"
            },
            "outputs": [],
            "source": "xx =xx.merge(df_signal_date, on=['SIGNAL_ID'], how='outer') "
        },
        {
            "cell_type": "code",
            "execution_count": null,
            "metadata": {
                "id": "a46e096c-32a4-4af9-9aba-e869c6f45bbd"
            },
            "outputs": [],
            "source": "df=xx.copy()"
        },
        {
            "cell_type": "markdown",
            "metadata": {},
            "source": "Simplify by only keeping the fields we need going forward."
        },
        {
            "cell_type": "code",
            "execution_count": null,
            "metadata": {
                "id": "bef94c70-4e64-45d7-8406-809b10ff2ec2"
            },
            "outputs": [],
            "source": "df=df[['DATE', 'ID', 'EQUIPMENT_FAILURE', 'FAILURE_TARGET','FAILURE_DATE',\n       'P_FAIL', 'Y_FAILZ','SIGNAL_ID',\n       'SIGNAL_DATE','ID_OF_SIGNAL','MODELING_GROUP']]"
        },
        {
            "cell_type": "markdown",
            "metadata": {},
            "source": " Create a field called \"Warning\" that indicates the time from signal to failure."
        },
        {
            "cell_type": "code",
            "execution_count": null,
            "metadata": {
                "id": "f80703fb-a61b-4e1c-9456-9c5bdefcecd1"
            },
            "outputs": [],
            "source": "\ndf['C'] = df['FAILURE_DATE'] - df['SIGNAL_DATE'].copy()\ndf['WARNING'] = df['C'] / np.timedelta64(1, 'D').copy()\n\n"
        },
        {
            "cell_type": "code",
            "execution_count": null,
            "metadata": {
                "id": "71837637-2146-45d1-b468-c8d95bbd5725"
            },
            "outputs": [],
            "source": "df.head()"
        },
        {
            "cell_type": "markdown",
            "metadata": {},
            "source": "##### 7.33 Create a realistic confusion matrix.<a></a>"
        },
        {
            "cell_type": "markdown",
            "metadata": {},
            "source": "Finally, we have enough information to define a false positive, false negative, true positive, and true negative. \n\n\n\nA true positive occurs if and only if the machine fails, and there was a signal within the last 90 days. Also, we have to ensure that the signal id belongs to the machine (ID). Note that this prohibits a signal from another machine from being applied to the machine in question.\n\nA false negative occurs if and only if the machine fails, and it is not a true positive.\n\nA False Positive occurs if there is a failure signal, and a failure does not happen in the next 90 days. Also, if a signal occurs after the failure, this is a false positive. We also must ensure that the signal ID belongs to the machine ID. \n\nIf an observation is not a False Positive, a False Negative, or a True Positive, it is a True Negative.\n\n"
        },
        {
            "cell_type": "code",
            "execution_count": null,
            "metadata": {
                "id": "fdcd87af-fadb-47ae-90fc-89fd7d26117f"
            },
            "outputs": [],
            "source": "# define a true positive\ndf['TRUE_POSITIVE'] = np.where(((df.EQUIPMENT_FAILURE == 1) & (df.WARNING<=forecast_window) &(df.WARNING>=0) & (df.ID_OF_SIGNAL==df.ID)), 1, 0)"
        },
        {
            "cell_type": "code",
            "execution_count": null,
            "metadata": {
                "id": "a6beb36e-50c9-466f-8fd0-d2944380e88c"
            },
            "outputs": [],
            "source": "# define a false negative\ndf['FALSE_NEGATIVE'] = np.where((df.TRUE_POSITIVE==0) & (df.EQUIPMENT_FAILURE==1), 1, 0)"
        },
        {
            "cell_type": "code",
            "execution_count": null,
            "metadata": {
                "id": "f350c2ca-26c2-4e0f-9284-160ae0c7c5f5"
            },
            "outputs": [],
            "source": "# define a false positive\ndf['BAD_S']=np.where((df.WARNING<0) | (df.WARNING>=forecast_window | df.WARNING.isnull().values.any()), 1, 0)\n#note that the \n\ndf['FALSE_POSITIVE'] = np.where(((df.Y_FAILZ == 1) & (df.BAD_S==1) & (df.ID_OF_SIGNAL==xx.ID)), 1, 0)"
        },
        {
            "cell_type": "code",
            "execution_count": null,
            "metadata": {
                "id": "6c29d31c-849c-4e51-be78-c0fa42b0ba85"
            },
            "outputs": [],
            "source": "df['bootie']=1"
        },
        {
            "cell_type": "code",
            "execution_count": null,
            "metadata": {
                "id": "c8385910-3ac9-4a2f-81c8-51a21d26413f"
            },
            "outputs": [],
            "source": "df['CATEGORY']=np.where((df.FALSE_POSITIVE==1),'FALSE_POSITIVE',\n                                      (np.where((df.FALSE_NEGATIVE==1),'FALSE_NEGATIVE',\n                                                (np.where((df.TRUE_POSITIVE==1),'TRUE_POSITIVE','TRUE_NEGATIVE')))))"
        },
        {
            "cell_type": "markdown",
            "metadata": {},
            "source": "Before we evaluate the confusion matrix, let's look at one machine to confirm our logic is correct."
        },
        {
            "cell_type": "code",
            "execution_count": null,
            "metadata": {
                "id": "ed3ba2d2-2787-4ab5-8958-504236b35b70"
            },
            "outputs": [],
            "source": "pd.options.display.max_rows = 1000\ndd=df[df['ID']==100002]\ndd.head(1000)"
        },
        {
            "cell_type": "markdown",
            "metadata": {},
            "source": "From examining the data above, you can see the failure signal occurred on 09/30/2015.  The failure associated with this machine is 10/27/2015.  The time between the signal is 27 days, within the 90-day window.  Therefore, the signal is a True Positive (line 1060)"
        },
        {
            "cell_type": "code",
            "execution_count": null,
            "metadata": {
                "id": "cd2f675e-b340-439a-ae12-f9ea9b1f7434"
            },
            "outputs": [],
            "source": "table = pd.pivot_table(df, values=['bootie'], index=['MODELING_GROUP'],columns=['CATEGORY'], aggfunc=np.sum)\ntable"
        },
        {
            "cell_type": "markdown",
            "metadata": {},
            "source": "So, in the testing data set, we have 126 false negatives, 113 false positives, 108,657 true negatives, and 23 true positives.  These metrics incorporate the failure window and should give a more realistic view of how the model will perform in production.\n\nIs this good?  I still honestly have no idea.  To fully understand if the model is good, we must examine it in the context of the problem.  We need to evaluate the model relative to the current costs and how much a model will lower these costs."
        },
        {
            "cell_type": "markdown",
            "metadata": {},
            "source": "#### 7.34 Incorporating the Economics of the Problem.<a></a>"
        },
        {
            "cell_type": "markdown",
            "metadata": {},
            "source": "Using the costs associated with these metrics, what do the results mean from an economic perspective?\n\n\nRemember this?\n"
        },
        {
            "cell_type": "code",
            "execution_count": null,
            "metadata": {
                "id": "237fe902-3bd8-4201-a1e3-f13d455db50e"
            },
            "outputs": [],
            "source": "from IPython.display import Image\nfrom IPython.core.display import HTML \nImage(url= \"https://cdn-images-1.medium.com/max/1600/1*fUKUEUeqgIYU9xlxj4pwhw.png\")"
        },
        {
            "cell_type": "markdown",
            "metadata": {},
            "source": "\n\nA false positive is \u201cUnnecessary Maintenance.\u201d A true positive is a \u201cTimely and Appropriate Maintenance.\u201d A false negative is \u201cMachine Runs to Failure.\u201d\n\nA false positive costs $1,500.\n\nA false negative costs $30,000.\n\nA true positive costs $7,500.\n\nA true negative has no cost because no action is taken.\n\nNow we can calculate the total cost.\n"
        },
        {
            "cell_type": "code",
            "execution_count": null,
            "metadata": {
                "id": "221cf4ba-a6c1-4cc0-b4a5-9888216cca69"
            },
            "outputs": [],
            "source": "df['TOTAL_COST']=df.FALSE_NEGATIVE*30000+df.FALSE_POSITIVE*1500+df.TRUE_POSITIVE*7500"
        },
        {
            "cell_type": "markdown",
            "metadata": {},
            "source": "Aggregate the costs by modeling group."
        },
        {
            "cell_type": "code",
            "execution_count": null,
            "metadata": {
                "id": "ada2dc7a-2f45-43f2-a875-d02d6605ca87"
            },
            "outputs": [],
            "source": "table = pd.pivot_table(df, values=['TOTAL_COST'],index=['MODELING_GROUP'], aggfunc=np.sum)\ntable"
        },
        {
            "cell_type": "markdown",
            "metadata": {},
            "source": "Calculate the number of machines in each modeling group."
        },
        {
            "cell_type": "code",
            "execution_count": null,
            "metadata": {
                "id": "90210343-71a8-42dd-b3b3-a579f206b4bb"
            },
            "outputs": [],
            "source": "wells=df[['ID','MODELING_GROUP']]\nwells=wells.drop_duplicates(subset='ID')\nwells = wells.groupby(['MODELING_GROUP'])['ID'].count()\nwells=pd.DataFrame(wells)\nwells=wells.rename(columns={\"ID\": \"WELLS\"})\nwells\n"
        },
        {
            "cell_type": "markdown",
            "metadata": {},
            "source": "Merge the total costs and total machines into one data frame."
        },
        {
            "cell_type": "code",
            "execution_count": null,
            "metadata": {
                "id": "cb61aa04-a066-4d41-873a-a6696a9cfae3"
            },
            "outputs": [],
            "source": "tc = df.groupby(['MODELING_GROUP'])['TOTAL_COST'].sum()\ntc=pd.DataFrame(tc)"
        },
        {
            "cell_type": "code",
            "execution_count": null,
            "metadata": {
                "id": "0593cd06-2cae-42a8-8830-311239ee172e"
            },
            "outputs": [],
            "source": "ac =tc.merge(wells, on=['MODELING_GROUP'], how='inner')"
        },
        {
            "cell_type": "markdown",
            "metadata": {},
            "source": "Calculate the average cost per machine.\n"
        },
        {
            "cell_type": "code",
            "execution_count": null,
            "metadata": {
                "id": "7b84dcae-59a3-4131-a56c-e44de053f318"
            },
            "outputs": [],
            "source": "ac['AVERAGE_COST']=ac.TOTAL_COST/ac.WELLS\nac['LIFT']=27948-ac.AVERAGE_COST\nac"
        },
        {
            "cell_type": "markdown",
            "metadata": {},
            "source": "Is this good?  Not really.   By using predictive maintenance we lowered the cost of operating each machine by 283 dollars.  Multiplied by 419 machines, this is a total savings of 118,577 dollars."
        },
        {
            "cell_type": "markdown",
            "metadata": {},
            "source": "I think we can do better, though.  Let's tweak our parameters."
        },
        {
            "cell_type": "markdown",
            "metadata": {},
            "source": "#### 7.4 Fine-Tuning  the solution.<a></a>"
        },
        {
            "cell_type": "markdown",
            "metadata": {},
            "source": "First, we will define the forecast window and change the cut-off from .50 to 0.015.  If the probability is less than 0.015, we expect a non-failure.  If the likelihood is more than 0.015, we expect a failure.  The forecast window doesn't change.\n"
        },
        {
            "cell_type": "code",
            "execution_count": null,
            "metadata": {
                "id": "5804eadf-4d16-4784-80cc-563f1a89a217"
            },
            "outputs": [],
            "source": "forecast_window=90\ncutoff=0.02"
        },
        {
            "cell_type": "markdown",
            "metadata": {},
            "source": "Now, clean up the data so that only one failure signal occurs every 90 days.  Associate a machine with each signal and find the date of each signal."
        },
        {
            "cell_type": "code",
            "execution_count": null,
            "metadata": {
                "id": "4203882f-6ee6-4f6f-b8cb-0ad6f206c95b"
            },
            "outputs": [],
            "source": "df=df_train_test"
        },
        {
            "cell_type": "code",
            "execution_count": null,
            "metadata": {
                "id": "c68877c4-274d-46f1-b7c1-b16ef9b1852a"
            },
            "outputs": [],
            "source": "df['P_FAIL']= xgb0.predict_proba(df[features])[:,1];\ndf['Y_FAIL'] = np.where(((df.P_FAIL <= cutoff)), 0, 1)\n#sort the data by id and date.\nxx=df\nxx=xx.sort_values(by=['ID','DATE'], ascending=[True, True])\n#create a unique list of machines\naa=xx\n\npd_id=aa.drop_duplicates(subset='ID')\npd_id=pd_id[['ID']]\n\n\n#label each machine with a sequential number\npd_id=pd_id.reset_index(drop=True)\npd_id=pd_id.reset_index(drop=False)\npd_id=pd_id.rename(columns={\"index\": \"SCOOBYDOO\"})\npd_id['SCOOBYDOO']=pd_id['SCOOBYDOO']+1\npd_id.head()\n\n#grab the max number of machines +1\n\ncolumn = pd_id[\"SCOOBYDOO\"]\nmax_value = column.max()+1\nmax_value\n\n#append sequential number to main file.  Now each machine has a sequencial id.\nxx=xx.sort_values(by=['ID'], ascending=[True])\npd_id=pd_id.sort_values(by=['ID'], ascending=[True])\nxx =xx.merge(pd_id, on=['ID'], how='inner')\nxx.head()\n\n#sort data\nxx=xx.sort_values(by=['ID','DATE'], ascending=[True,True])\n\n#reset index\nxx=xx.reset_index(drop=True)\n\n#create a null dataframe for the next step\ndf_fred=xx\ndf_fred['Y_FAIL_sumxx']=0\ndf_fred=df_fred[df_fred['SCOOBYDOO'] == max_value+1]\ndf_fred.shape\n\n\n#sum the number of signals occuring over the last 90 days for each machine individually\n\nfor x in range(max_value):\n        dffx=xx[xx['SCOOBYDOO'] ==x]\n        dff=dffx.copy()\n        dff['Y_FAIL_sumxx'] =(dff['Y_FAIL'].rolling(min_periods=1, window=(forecast_window)).sum())\n        df_fred= pd.concat([df_fred,dff])\n        \n        \nxx=df_fred\n\n# if a signal has occured in the last 90 days, the signal is 0.\nxx['Y_FAILZ']=np.where((xx.Y_FAIL_sumxx>1), 0, xx.Y_FAIL)\n\n\n#sort the data by id and date.\n\nxx=xx.sort_values(by=['ID','DATE'], ascending=[True, True])\n\n\n#create signal id with the cumsum function.\nxx['SIGNAL_ID'] = xx['Y_FAILZ'].cumsum()\n\n\ndf_signals=xx[xx['Y_FAILZ'] == 1]\ndf_signal_date=df_signals[['SIGNAL_ID','DATE','ID']]\ndf_signal_date=df_signal_date.rename(index=str, columns={\"DATE\": \"SIGNAL_DATE\"})\ndf_signal_date=df_signal_date.rename(index=str, columns={\"ID\": \"ID_OF_SIGNAL\"})\n\n\n\nxx =xx.merge(df_signal_date, on=['SIGNAL_ID'], how='outer') \n\n\nxx=xx[['DATE', 'ID', 'EQUIPMENT_FAILURE', 'FAILURE_TARGET','FAILURE_DATE',\n       'P_FAIL', 'Y_FAILZ','SIGNAL_ID',\n       'SIGNAL_DATE','ID_OF_SIGNAL','MODELING_GROUP']]\n\n\n\nxx['C'] = xx['FAILURE_DATE'] - xx['SIGNAL_DATE']\nxx['WARNING'] = xx['C'] / np.timedelta64(1, 'D')\n\n\n\n\ndf=xx\n"
        },
        {
            "cell_type": "markdown",
            "metadata": {},
            "source": "Use Heuristics to define false positives, false negatives, true positives and true negatives."
        },
        {
            "cell_type": "code",
            "execution_count": null,
            "metadata": {
                "id": "e937e252-5e9c-44f9-98c6-dd797e4dfdb2"
            },
            "outputs": [],
            "source": "# define a true positive\ndf['TRUE_POSITIVE'] = np.where(((df.EQUIPMENT_FAILURE == 1) & (df.WARNING<=forecast_window) &(df.WARNING>=0) & (df.ID_OF_SIGNAL==df.ID)), 1, 0)\n\n\n# define a false negative\ndf['FALSE_NEGATIVE'] = np.where((df.TRUE_POSITIVE==0) & (df.EQUIPMENT_FAILURE==1), 1, 0)\n\n# define a false positive\ndf['BAD_S']=np.where((df.WARNING<0) | (df.WARNING>=forecast_window), 1, 0)\n\ndf['FALSE_POSITIVE'] = np.where(((df.Y_FAILZ == 1) & (df.BAD_S==1) & (df.ID_OF_SIGNAL==df.ID)), 1, 0)\n\ndf['bootie']=1\n\ndf['CATEGORY']=np.where((df.FALSE_POSITIVE==1),'FALSE_POSITIVE',\n                                      (np.where((df.FALSE_NEGATIVE==1),'FALSE_NEGATIVE',\n                                                (np.where((df.TRUE_POSITIVE==1),'TRUE_POSITIVE','TRUE_NEGATIVE')))))"
        },
        {
            "cell_type": "markdown",
            "metadata": {},
            "source": "Now we can examine a cross-tabulation."
        },
        {
            "cell_type": "code",
            "execution_count": null,
            "metadata": {
                "id": "2e68043d-634b-4027-a294-83d9f7a7518a"
            },
            "outputs": [],
            "source": "table = pd.pivot_table(df, values=['bootie'], index=['MODELING_GROUP'],columns=['CATEGORY'], aggfunc=np.sum)\ntable"
        },
        {
            "cell_type": "markdown",
            "metadata": {},
            "source": "Again, I have no idea if these results are good.  To gauge the model's effectiveness, we need to incorporate the economics."
        },
        {
            "cell_type": "code",
            "execution_count": null,
            "metadata": {
                "id": "35ca092b-490a-422f-85e4-f4e9ebb388ed"
            },
            "outputs": [],
            "source": "\n#Now we can calculate the total cost.\ndf['TOTAL_COST']=df.FALSE_NEGATIVE*30000+df.FALSE_POSITIVE*1500+df.TRUE_POSITIVE*7500\n#Aggregate the costs by modeling group.\ntable = pd.pivot_table(df, values=['TOTAL_COST'],index=['MODELING_GROUP'], aggfunc=np.sum)\n\n#Calculate the number of machines in each modeling group.\nwells=df[['ID','MODELING_GROUP']]\nwells=wells.drop_duplicates(subset='ID')\nwells = wells.groupby(['MODELING_GROUP'])['ID'].count()\nwells=pd.DataFrame(wells)\nwells=wells.rename(columns={\"ID\": \"WELLS\"})\n\ntc = df.groupby(['MODELING_GROUP'])['TOTAL_COST'].sum()\ntc=pd.DataFrame(tc)\n#Merge the total costs and total machines into one data frame.\nac =tc.merge(wells, on=['MODELING_GROUP'], how='inner')\n#Calculate the average cost per machine.\n\nac['AVERAGE_COST']=ac.TOTAL_COST/ac.WELLS\nac['LIFT']=27948-ac.AVERAGE_COST\nac"
        },
        {
            "cell_type": "markdown",
            "metadata": {},
            "source": "Ok.  These metrics look much better, but let's not get too excited until we affirm the results on the validation data set."
        },
        {
            "cell_type": "markdown",
            "metadata": {},
            "source": "#### 7.5 Validating the solution.<a></a>"
        },
        {
            "cell_type": "code",
            "execution_count": null,
            "metadata": {
                "id": "d63c5912-26ea-4882-98b8-6b682b05a1fd"
            },
            "outputs": [],
            "source": "df=df_total"
        },
        {
            "cell_type": "code",
            "execution_count": null,
            "metadata": {
                "id": "c846feaf-2806-401f-990d-3fe8433761b5"
            },
            "outputs": [],
            "source": "df['P_FAIL']= xgb0.predict_proba(df[features])[:,1];\ndf['Y_FAIL'] = np.where(((df.P_FAIL <= cutoff)), 0, 1)\n#sort the data by id and date.\nxx=df\nxx=xx.sort_values(by=['ID','DATE'], ascending=[True, True])\n#create a unique list of machines\naa=xx\n\npd_id=aa.drop_duplicates(subset='ID')\npd_id=pd_id[['ID']]\n\n\n#label each machine with a sequential number\npd_id=pd_id.reset_index(drop=True)\npd_id=pd_id.reset_index(drop=False)\npd_id=pd_id.rename(columns={\"index\": \"SCOOBYDOO\"})\npd_id['SCOOBYDOO']=pd_id['SCOOBYDOO']+1\npd_id.head()\n\n#grab the max number of machines +1\n\ncolumn = pd_id[\"SCOOBYDOO\"]\nmax_value = column.max()+1\nmax_value\n\n#append sequential number to main file.  Now each machine has a sequencial id.\nxx=xx.sort_values(by=['ID'], ascending=[True])\npd_id=pd_id.sort_values(by=['ID'], ascending=[True])\nxx =xx.merge(pd_id, on=['ID'], how='inner')\nxx.head()\n\n#sort data\nxx=xx.sort_values(by=['ID','DATE'], ascending=[True,True])\n\n#reset index\nxx=xx.reset_index(drop=True)\n\n#create a null dataframe for the next step\ndf_fred=xx\ndf_fred['Y_FAIL_sumxx']=0\ndf_fred=df_fred[df_fred['SCOOBYDOO'] == max_value+1]\ndf_fred.shape\n\n\n#sum the number of signals occuring over the last 90 days for each machine individually\n\nfor x in range(max_value):\n        dffx=xx[xx['SCOOBYDOO'] ==x]\n        dff=dffx.copy()\n        dff['Y_FAIL_sumxx'] =(dff['Y_FAIL'].rolling(min_periods=1, window=(forecast_window)).sum())\n        df_fred= pd.concat([df_fred,dff])\n        \n        \nxx=df_fred\n\n# if a signal has occured in the last 90 days, the signal is 0.\nxx['Y_FAILZ']=np.where((xx.Y_FAIL_sumxx>1), 0, xx.Y_FAIL)\n\n\n#sort the data by id and date.\n\nxx=xx.sort_values(by=['ID','DATE'], ascending=[True, True])\n\n\n#create signal id with the cumsum function.\nxx['SIGNAL_ID'] = xx['Y_FAILZ'].cumsum()\n\n\ndf_signals=xx[xx['Y_FAILZ'] == 1]\ndf_signal_date=df_signals[['SIGNAL_ID','DATE','ID']]\ndf_signal_date=df_signal_date.rename(index=str, columns={\"DATE\": \"SIGNAL_DATE\"})\ndf_signal_date=df_signal_date.rename(index=str, columns={\"ID\": \"ID_OF_SIGNAL\"})\n\n\n\nxx =xx.merge(df_signal_date, on=['SIGNAL_ID'], how='outer') \n\n\nxx=xx[['DATE', 'ID', 'EQUIPMENT_FAILURE', 'FAILURE_TARGET','FAILURE_DATE',\n       'P_FAIL', 'Y_FAILZ','SIGNAL_ID',\n       'SIGNAL_DATE','ID_OF_SIGNAL','MODELING_GROUP']]\n\n\n\nxx['C'] = xx['FAILURE_DATE'] - xx['SIGNAL_DATE']\nxx['WARNING'] = xx['C'] / np.timedelta64(1, 'D')\n\n\n\n\ndf=xx\n\n\n\n\n\n\n# define a true positive\ndf['TRUE_POSITIVE'] = np.where(((df.EQUIPMENT_FAILURE == 1) & (df.WARNING<=forecast_window) &(df.WARNING>=0) & (df.ID_OF_SIGNAL==df.ID)), 1, 0)\n\n\n# define a false negative\ndf['FALSE_NEGATIVE'] = np.where((df.TRUE_POSITIVE==0) & (df.EQUIPMENT_FAILURE==1), 1, 0)\n\n# define a false positive\ndf['BAD_S']=np.where((df.WARNING<0) | (df.WARNING>=forecast_window), 1, 0)\n\ndf['FALSE_POSITIVE'] = np.where(((df.Y_FAILZ == 1) & (df.BAD_S==1) & (df.ID_OF_SIGNAL==df.ID)), 1, 0)\n\ndf['bootie']=1\n\ndf['CATEGORY']=np.where((df.FALSE_POSITIVE==1),'FALSE_POSITIVE',\n                                      (np.where((df.FALSE_NEGATIVE==1),'FALSE_NEGATIVE',\n                                                (np.where((df.TRUE_POSITIVE==1),'TRUE_POSITIVE','TRUE_NEGATIVE')))))\n\n\n\n\n#Now we can calculate the total cost.\ndf['TOTAL_COST']=df.FALSE_NEGATIVE*30000+df.FALSE_POSITIVE*1500+df.TRUE_POSITIVE*7500\n#Aggregate the costs by modeling group.\ntable = pd.pivot_table(df, values=['TOTAL_COST'],index=['MODELING_GROUP'], aggfunc=np.sum)\n\n#Calculate the number of machines in each modeling group.\nwells=df[['ID','MODELING_GROUP']]\nwells=wells.drop_duplicates(subset='ID')\nwells = wells.groupby(['MODELING_GROUP'])['ID'].count()\nwells=pd.DataFrame(wells)\nwells=wells.rename(columns={\"ID\": \"WELLS\"})\n\ntc = df.groupby(['MODELING_GROUP'])['TOTAL_COST'].sum()\ntc=pd.DataFrame(tc)\n#Merge the total costs and total machines into one data frame.\nac =tc.merge(wells, on=['MODELING_GROUP'], how='inner')\n#Calculate the average cost per machine.\n\nac['AVERAGE_COST']=ac.TOTAL_COST/ac.WELLS\nac['LIFT']=27948-ac.AVERAGE_COST\nac"
        },
        {
            "cell_type": "markdown",
            "metadata": {},
            "source": "###  8.0 Conclusions <a></a>"
        },
        {
            "cell_type": "markdown",
            "metadata": {},
            "source": "Now we have everything we need to examine the effectiveness of the model.  \n\nMaintenance currently costs the firm about 27,948 dollars per machine in the current data set.  In the Validation data set, the cost per machine is 24,380.  A predictive maintenance solution will lower the cost per machine by about 3,567 dollars per machine in the validation set.  To be conservative, we should probably take the lower of the testing and validation data sets, so let's use 2,860 as a lift over the BAU metric.  The lift multiplied by 421 machines equates to 1.204 million in savings or about a 10% reduction in total expenses.\n\nNot too shabby.\n\n"
        },
        {
            "cell_type": "markdown",
            "metadata": {},
            "source": "### Author\n\n\n"
        },
        {
            "cell_type": "markdown",
            "metadata": {},
            "source": "\n**Shad Griffin**, is a Certified Thought Leader and Data Scientist at IBM"
        },
        {
            "cell_type": "markdown",
            "metadata": {},
            "source": "<hr>\nCopyright &copy; IBM Corp. 2020. This notebook and its source code are released under the terms of the MIT License.\n\n"
        }
    ],
    "metadata": {
        "kernelspec": {
            "display_name": "Python 3.11",
            "language": "python",
            "name": "python3"
        },
        "language_info": {
            "codemirror_mode": {
                "name": "ipython",
                "version": 3
            },
            "file_extension": ".py",
            "mimetype": "text/x-python",
            "name": "python",
            "nbconvert_exporter": "python",
            "pygments_lexer": "ipython3",
            "version": "3.11.9"
        },
        "vscode": {
            "interpreter": {
                "hash": "aee8b7b246df8f9039afb4144a1f6fd8d2ca17a180786b69acc140d282b71a49"
            }
        }
    },
    "nbformat": 4,
    "nbformat_minor": 4
}